{
  "nbformat": 4,
  "nbformat_minor": 0,
  "metadata": {
    "colab": {
      "name": "squats_1.2",
      "provenance": [],
      "collapsed_sections": []
    },
    "kernelspec": {
      "name": "python3",
      "display_name": "Python 3"
    },
    "language_info": {
      "name": "python"
    }
  },
  "cells": [
    {
      "cell_type": "code",
      "metadata": {
        "colab": {
          "base_uri": "https://localhost:8080/"
        },
        "id": "FI_CXpCWUsJB",
        "outputId": "aafd502d-bdb0-44b8-fcf5-d7c3d01d79d2"
      },
      "source": [
        "!pip install mediapipe opencv-python"
      ],
      "execution_count": null,
      "outputs": [
        {
          "output_type": "stream",
          "name": "stdout",
          "text": [
            "Requirement already satisfied: mediapipe in /usr/local/lib/python3.7/dist-packages (0.8.8)\n",
            "Requirement already satisfied: opencv-python in /usr/local/lib/python3.7/dist-packages (4.1.2.30)\n",
            "Requirement already satisfied: wheel in /usr/local/lib/python3.7/dist-packages (from mediapipe) (0.37.0)\n",
            "Requirement already satisfied: absl-py in /usr/local/lib/python3.7/dist-packages (from mediapipe) (0.12.0)\n",
            "Requirement already satisfied: attrs>=19.1.0 in /usr/local/lib/python3.7/dist-packages (from mediapipe) (21.2.0)\n",
            "Requirement already satisfied: six in /usr/local/lib/python3.7/dist-packages (from mediapipe) (1.15.0)\n",
            "Requirement already satisfied: numpy in /usr/local/lib/python3.7/dist-packages (from mediapipe) (1.19.5)\n",
            "Requirement already satisfied: opencv-contrib-python in /usr/local/lib/python3.7/dist-packages (from mediapipe) (4.1.2.30)\n",
            "Requirement already satisfied: protobuf>=3.11.4 in /usr/local/lib/python3.7/dist-packages (from mediapipe) (3.17.3)\n",
            "Requirement already satisfied: matplotlib in /usr/local/lib/python3.7/dist-packages (from mediapipe) (3.2.2)\n",
            "Requirement already satisfied: cycler>=0.10 in /usr/local/lib/python3.7/dist-packages (from matplotlib->mediapipe) (0.10.0)\n",
            "Requirement already satisfied: python-dateutil>=2.1 in /usr/local/lib/python3.7/dist-packages (from matplotlib->mediapipe) (2.8.2)\n",
            "Requirement already satisfied: kiwisolver>=1.0.1 in /usr/local/lib/python3.7/dist-packages (from matplotlib->mediapipe) (1.3.2)\n",
            "Requirement already satisfied: pyparsing!=2.0.4,!=2.1.2,!=2.1.6,>=2.0.1 in /usr/local/lib/python3.7/dist-packages (from matplotlib->mediapipe) (2.4.7)\n"
          ]
        }
      ]
    },
    {
      "cell_type": "code",
      "metadata": {
        "id": "m7aWGWaDez4D"
      },
      "source": [
        " import cv2\n",
        "import mediapipe as mp\n",
        "import numpy as np\n",
        "import pandas as pd\n",
        "import time\n",
        "\n",
        "mp_drawing = mp.solutions.drawing_utils\n",
        "mp_pose = mp.solutions.pose\n",
        "pose = mp_pose.Pose()"
      ],
      "execution_count": null,
      "outputs": []
    },
    {
      "cell_type": "code",
      "metadata": {
        "colab": {
          "base_uri": "https://localhost:8080/"
        },
        "id": "60CnAn5bFVtt",
        "outputId": "82c54bb0-d49d-41eb-fe01-e298c3bbc83e"
      },
      "source": [
        "from google.colab import drive # 국방부 해커톤/input에 있는 영상 사본 만들고 사본을 옮겨서 이름 바꾸기 / 원본 안옮기게 주의!\n",
        "drive.mount('/content/gdrive')"
      ],
      "execution_count": null,
      "outputs": [
        {
          "output_type": "stream",
          "name": "stdout",
          "text": [
            "Drive already mounted at /content/gdrive; to attempt to forcibly remount, call drive.mount(\"/content/gdrive\", force_remount=True).\n"
          ]
        }
      ]
    },
    {
      "cell_type": "code",
      "metadata": {
        "id": "SP25Y5oyMs2K"
      },
      "source": [
        "import os\n",
        "os.chdir('/content/gdrive/MyDrive/국방부 해커톤/input/팔굽혀펴기')"
      ],
      "execution_count": null,
      "outputs": []
    },
    {
      "cell_type": "markdown",
      "metadata": {
        "id": "NLfh9K8cbL2t"
      },
      "source": [
        "# **Finding XYZ**"
      ]
    },
    {
      "cell_type": "code",
      "metadata": {
        "id": "7PHHnbjtbD7Z"
      },
      "source": [
        "def find_xyz(ind_list, landmark):\n",
        "  a = landmark[ind_list[0]]\n",
        "  b = landmark[ind_list[1]]\n",
        "  c = landmark[ind_list[2]]\n",
        "\n",
        "  first = [a.x,a.y,a.z]\n",
        "  mid = [b.x,b.y,b.z]\n",
        "  end = [c.x,c.y,c.z]\n",
        "  return first, mid, end"
      ],
      "execution_count": null,
      "outputs": []
    },
    {
      "cell_type": "markdown",
      "metadata": {
        "id": "Vg5Ye9FLw8-Q"
      },
      "source": [
        "# **Calculating Angle**"
      ]
    },
    {
      "cell_type": "code",
      "metadata": {
        "id": "mpoVgziyP4EQ"
      },
      "source": [
        "def calculate_angle3D(a,b,c,direction):\n",
        "  \"\"\"\n",
        "  calculate_angle3D is divided by left and right side because this function uses external product\n",
        "  input : a,b,c -> landmarks with shape [x,y,z,visibility]\n",
        "          direction -> int -1 or 1\n",
        "                      -1 means Video(photo) for a person's left side and 1 means Video(photo) for a person's right side\n",
        "  output : angle between vector ba and bc with range 0~360\n",
        "  \"\"\"\n",
        "  # external product's z value\n",
        "  external_z = (b[0]-a[0])*(b[1]-c[1]) - (b[1]-a[1])*(b[0]-c[0])\n",
        "\n",
        "  a = np.array(a) #first\n",
        "  b = np.array(b) #mid\n",
        "  c = np.array(c) #end\n",
        "\n",
        "  ba = b-a\n",
        "  bc = b-c\n",
        "  dot_result = np.dot(ba, bc)\n",
        "\n",
        "\n",
        "  ba_size = np.linalg.norm(ba)\n",
        "  bc_size = np.linalg.norm(bc)\n",
        "  radi = np.arccos(dot_result / (ba_size*bc_size))\n",
        "  angle = np.abs(radi*180.0/np.pi)\n",
        "\n",
        "  # left side\n",
        "  if external_z * direction > 0:\n",
        "    angle = 360 - angle\n",
        "\n",
        "  return angle\n"
      ],
      "execution_count": null,
      "outputs": []
    },
    {
      "cell_type": "code",
      "metadata": {
        "id": "JiGSYjxsiIj0"
      },
      "source": [
        "def calculate_angle2D(a,b,c,direction):\n",
        "  \"\"\"\n",
        "  calculate_angle2D is divided by left and right side because this function uses external product\n",
        "  input : a,b,c -> landmarks with shape [x,y,z,visibility]\n",
        "          direction -> int -1 or 1\n",
        "                      -1 means Video(photo) for a person's left side and 1 means Video(photo) for a person's right side\n",
        "  output : angle between vector ba and bc with range 0~360\n",
        "  \"\"\"\n",
        "  # external product's z value\n",
        "  external_z = (b[0]-a[0])*(b[1]-c[1]) - (b[1]-a[1])*(b[0]-c[0])\n",
        "\n",
        "  a = np.array(a[:2]) #first\n",
        "  b = np.array(b[:2]) #mid\n",
        "  c = np.array(c[:2]) #end\n",
        "\n",
        "  ba = b-a\n",
        "  bc = b-c\n",
        "  dot_result = np.dot(ba, bc)\n",
        "\n",
        "\n",
        "  ba_size = np.linalg.norm(ba)\n",
        "  bc_size = np.linalg.norm(bc)\n",
        "  radi = np.arccos(dot_result / (ba_size*bc_size))\n",
        "  angle = np.abs(radi*180.0/np.pi)\n",
        "\n",
        "  if external_z * direction > 0:\n",
        "    angle = 360 - angle\n",
        "\n",
        "  return angle"
      ],
      "execution_count": null,
      "outputs": []
    },
    {
      "cell_type": "markdown",
      "metadata": {
        "id": "1kGZFZtrQk2T"
      },
      "source": [
        "#**Checking Conditions for Pushups**"
      ]
    },
    {
      "cell_type": "markdown",
      "metadata": {
        "id": "ZHBwqzrvW8oo"
      },
      "source": [
        "##2D angle"
      ]
    },
    {
      "cell_type": "code",
      "metadata": {
        "id": "E3pcty0897Vt"
      },
      "source": [
        "def IsOutlier_pushups(angle_list, joint):\n",
        "  \"\"\"\n",
        "  한 프레임 차이인데 각도차이가 너무 많이 나면 그 값을 무시함.\n",
        "  joint는 0, 1, 2 값을 가지며 각각 elbow, hip, knee를 나타냄\n",
        "  \"\"\"\n",
        "  if len(angle_list) < 4:\n",
        "    return False\n",
        "  \n",
        "  th = [40, 40, 30]\n",
        "\n",
        "  # 가장 최근 값 3개와 새로운 값이 차이가 너무 크면 outlier\n",
        "  if abs((angle_list[-2]+angle_list[-3]+angle_list[-4])/3 - angle_list[-1]) > th[joint]:\n",
        "      return True\n",
        "  return False\n",
        "  "
      ],
      "execution_count": null,
      "outputs": []
    },
    {
      "cell_type": "code",
      "metadata": {
        "id": "sFc0x4U7jl00"
      },
      "source": [
        "video_path = \"/content/gdrive/MyDrive/국방부 해커톤/input/팔굽혀펴기/4.mp4\"\n",
        "cap = cv2.VideoCapture(video_path)\n",
        "elbow_state = 'up'\n",
        "Is_start = False\n",
        "\n",
        "# 팔굽혀펴기 1회 측정 시간\n",
        "start = 0\n",
        "end = 0\n",
        "\n",
        "#우측 관절값\n",
        "joint_indx = {'right_elbow':[16,14,12],'right_hip':[12,24,26],'right_knee':[24,26,28]} \n",
        "\n",
        "\"\"\"\n",
        "temp은 팔굽혀펴기 운동을 한번 할떄마다(내려갔다 올라올 때마다) 해당 관절 부분의 각도를 최신화함. 이전에 했던 팔굽혀펴기의 각도값들은 다 초기화함.\n",
        "      -> 앱 상에서 관절 각도값을 저장하는 데에 무리가 가지않게 list를 초기화시켜줌.\n",
        "\"\"\"\n",
        "temp = {'right_elbow':[],'right_hip':[],'right_knee':[]}\n",
        "pushups = []\n",
        "\n",
        "\"\"\"\n",
        "pushups는 list(list)형식이다. 안쪽 list는 length가 5이며 각각 Is_elbow_up, Is_elbow_down, hip_condition, knee_condition, Is_speed_good을 의미한다.\n",
        "Is_elbow_up -> int 0 or 1 -> 팔꿈치를 완전히 펴면 1, 완전히 펴지 않으면 0\n",
        "Is_elbow_down -> int 0 or 1 -> 팔꿈치를 완전히 굽히면 1, 완전히 굽히지 않으면 0\n",
        "hip_condition -> int 0 or 1 or 2 -> 골반이 정상이면 0, 너무 내려가면 1, 너무 올라가면 2\n",
        "knee_condition -> int 1 or 0 -> 무릎 각도가 정상범위면 1, 너무 내려가면 0\n",
        "Is_speed_good -> int 1 or 0 -> 팔굽혀펴기 속도가 적당하면(1회당 1초 이상) 1, 너무 빠르면(1회당 1초 미만) 0 \n",
        "예를 들어, pushup[0]이 [1,0,1,1,1]이면 첫번째 푸쉬업 동작이 올라올 때 팔꿈치를 완전히 폈고, 내려갈때 완전히 팔을 굽히지는 않았으며, 골반은 과도하게 내려갔고,\n",
        "무릎각도는 정상범위이며 속도가 너무 빠르지않다는 의미이다.\n",
        "\"\"\"\n",
        "\n",
        "if cap.isOpened():\n",
        "  width = int(cap.get(cv2.CAP_PROP_FRAME_WIDTH))\n",
        "  height = int(cap.get(cv2.CAP_PROP_FRAME_HEIGHT))\n",
        "\n",
        "  res=(int(width), int(height))\n",
        "  fourcc = cv2.VideoWriter_fourcc(*'MP4V') #codec\n",
        "  out = cv2.VideoWriter('4test.mp4', fourcc, 20.0, res)\n",
        "\n",
        "  frame = None\n",
        "  while True:\n",
        "    try:\n",
        "      ret, frame = cap.read()\n",
        "    except cv2.error:\n",
        "      continue\n",
        "    if not ret:\n",
        "      break\n",
        "\n",
        "    image = cv2.cvtColor(frame, cv2.COLOR_BGR2RGB)\n",
        "    results = pose.process(image)\n",
        "\n",
        "    if results.pose_landmarks:\n",
        "      mp_drawing.draw_landmarks(frame, results.pose_landmarks, mp_pose.POSE_CONNECTIONS)\n",
        "      landmark = results.pose_landmarks.landmark\n",
        "      for key,val in joint_indx.items():\n",
        "        first,mid,end = find_xyz(val, landmark)\n",
        "        angle = calculate_angle2D(first,mid,end, 1) #각도 계산\n",
        "        mid = mid[0:2]\n",
        "        cv2.putText(frame, str(int(angle)),tuple(np.multiply(mid, [width,height]).astype(int)),cv2.FONT_HERSHEY_SIMPLEX, 1.2, (0,255,0),5,cv2.LINE_AA)\n",
        "        temp[key].append(angle)\n",
        "\n",
        "\n",
        "      ####################################################################################################\n",
        "      elbow_angle = temp['right_elbow'][-1]\n",
        "      Is_elbow_up = (elbow_angle > 130)\n",
        "      Is_elbow_down = (elbow_angle < 110)\n",
        "      hip_angle = temp['right_hip'][-1]\n",
        "      hip_condition = (hip_angle >140) and (hip_angle < 220)\n",
        "      knee_angle = temp['right_knee'][-1]\n",
        "      knee_condition = (knee_angle > 130) and (knee_angle < 205)\n",
        "      lower_body_condition = hip_condition and knee_condition\n",
        "\n",
        "      # 팔굽혀펴기 시작 자세 판단\n",
        "      if not Is_start:\n",
        "        Is_pushup_angle = (elbow_angle > 140) and (elbow_angle < 190) and (hip_angle >140) and (hip_angle < 200) and (knee_angle > 125) and (knee_angle < 190) \n",
        "        if Is_pushup_angle:\n",
        "          ##########################################################################################\n",
        "          # 여기에 음성으로 '시작합니다!' 라고 말해주면 좋을거같습니다. 이때부터 자세 평가 시작합니다.\n",
        "          ##########################################################################################\n",
        "          Is_start = True\n",
        "\n",
        "      if not Is_start:\n",
        "        temp['right_elbow'].pop()\n",
        "        temp['right_hip'].pop()\n",
        "        temp['right_knee'].pop()\n",
        "      else:\n",
        "        # identify if capctured image is outlier\n",
        "        if IsOutlier_pushups(temp['right_elbow'], 0) or IsOutlier_pushups(temp['right_hip'], 1) or IsOutlier_pushups(temp['right_knee'], 2):\n",
        "          temp['right_elbow'].pop()\n",
        "          temp['right_hip'].pop()\n",
        "          temp['right_knee'].pop()\n",
        "        else:\n",
        "      ####################################################################################################\n",
        "          if Is_elbow_up and elbow_state == 'down' and lower_body_condition:\n",
        "\n",
        "            # down state부터 up state까지 시간이 측정됨. 다만 코드 실행시 시간측정이라 real time에서도 잘 작동하는지 봐야함. 연산에 의한 latency가 발생할 수 있기 때문\n",
        "            end = time.time()\n",
        "            elbow_state = 'up'\n",
        "            element = []\n",
        "\n",
        "            # 팔꿈치를 핀 정도가 160도보다 큰 경우\n",
        "            if max(temp['right_elbow']) > 160:\n",
        "              element.append(1)\n",
        "            # 팔꿈치를 덜 핀 경우\n",
        "            else:\n",
        "              element.append(0)\n",
        "\n",
        "            # 팔꿈치를 굽힌 정도가 70도보다 작은 경우\n",
        "            if min(temp['right_elbow']) < 70:\n",
        "              element.append(1)\n",
        "            # 팔꿈치를 덜 굽힌 경우\n",
        "            else:\n",
        "              element.append(0)\n",
        "            # 팔꿈치 각도 데이터 초기화 (어플에서의 변수 저장 값이 많아지는 것을 방지하기 위해 팔굽 하나 할때마다 각도 축적해놓은거를 초기화함.)\n",
        "            temp['right_elbow'] = []\n",
        "\n",
        "            # 팔꿈치 굽혔다 필 동안 골반이 152도보다 내려갔는지(골반이 너무 아래로 내려갔는지)\n",
        "            if min(temp['right_hip']) < 152:\n",
        "              element.append(1)\n",
        "            # 팔꿈치 굽혔다 필 동안 골반이 250도보다 올라갔는지(골반이 너무 위로 올라갔는지)\n",
        "            elif max(temp['right_hip']) > 250:\n",
        "              element.append(2)\n",
        "            # 팔굽하는 동안 골반이 정상 자세(152~250도 사이값)인 경우\n",
        "            else:\n",
        "              element.append(0)\n",
        "            temp['right_hip'] = []\n",
        "\n",
        "            # knee condition\n",
        "            if min(temp['right_knee']) < 130:\n",
        "              element.append(0)\n",
        "            else:\n",
        "              element.append(1)\n",
        "            temp['right_knee'] = []\n",
        "\n",
        "            #Is_speed_good\n",
        "            # down state부터 up state까지 시간차이가 1초가 되는지 판단함. 다만 코드 실행시 시간측정이라 real time에서도 잘 작동하는지 봐야함. 연산에 의한 latency가 발생할 수 있기 때문\n",
        "            if end - start < 1:\n",
        "              element.append(0)\n",
        "            else:\n",
        "              element.append(1)\n",
        "\n",
        "\n",
        "            \"\"\"\n",
        "            개수 카운팅 되는 부분입니다. 이 부분에 음성으로 하나, 둘, 셋, ... 이렇게 개수를 세어주면 좋을거 같습니다.\n",
        "            또한, element의 값을 보고 실시간으로 하는 피드백도 이 부분에 대입하는게 좋을거 같습니다.\n",
        "            element는 [Is_elbow_up, Is_elbow_down, hip_condition, knee_condition, Is_speed_good]입니다. 각각에 대한 설명은 위 주석에 있습니다.\n",
        "            \"\"\"\n",
        "            pushups.append(element)\n",
        "\n",
        "          elif Is_elbow_down and elbow_state == 'up' and lower_body_condition:\n",
        "            elbow_state = 'down'\n",
        "            # down state부터 up state까지 시간이 측정됨. 다만 코드 실행시 시간측정이라 real time에서도 잘 작동하는지 봐야함. 연산에 의한 latency가 발생할 수 있기 때문\n",
        "            start = time.time()\n",
        "\n",
        "          cv2.putText(frame, str(len(pushups)), (200,300), cv2.FONT_HERSHEY_PLAIN, 4, (255,255,255),2, cv2.LINE_AA)\n",
        "\n",
        "          out.write(frame)\n",
        "  out.release()\n",
        "\n"
      ],
      "execution_count": null,
      "outputs": []
    },
    {
      "cell_type": "code",
      "metadata": {
        "id": "CZh30NGyXDJs"
      },
      "source": [
        "video_path = \"/content/gdrive/MyDrive/국방부 해커톤/input/팔굽혀펴기/4.mp4\"\n",
        "cap = cv2.VideoCapture(video_path)\n",
        "elbow_state = 'up'\n",
        "Is_start = False\n",
        "\n",
        "# 팔굽혀펴기 1회 측정 시간\n",
        "start = 0\n",
        "end = 0\n",
        "\n",
        "#우측 관절값\n",
        "joint_indx = {'right_elbow':[16,14,12],'right_hip':[12,24,26],'right_knee':[24,26,28]} \n",
        "\n",
        "\"\"\"\n",
        "temp은 팔굽혀펴기 운동을 한번 할떄마다(내려갔다 올라올 때마다) 해당 관절 부분의 각도를 최신화함. 이전에 했던 팔굽혀펴기의 각도값들은 다 초기화함.\n",
        "      -> 앱 상에서 관절 각도값을 저장하는 데에 무리가 가지않게 list를 초기화시켜줌.\n",
        "\"\"\"\n",
        "temp = {'right_elbow':[],'right_hip':[],'right_knee':[]}\n",
        "pushups = []\n",
        "\n",
        "\"\"\"\n",
        "pushups는 list(list)형식이다. 안쪽 list는 length가 5이며 각각 Is_elbow_up, Is_elbow_down, hip_condition, knee_condition, Is_speed_good을 의미한다.\n",
        "Is_elbow_up -> int 0 or 1 -> 팔꿈치를 완전히 펴면 1, 완전히 펴지 않으면 0\n",
        "Is_elbow_down -> int 0 or 1 -> 팔꿈치를 완전히 굽히면 1, 완전히 굽히지 않으면 0\n",
        "hip_condition -> int 0 or 1 or 2 -> 골반이 정상이면 0, 너무 내려가면 1, 너무 올라가면 2\n",
        "knee_condition -> int 1 or 0 -> 무릎 각도가 정상범위면 1, 너무 내려가면 0\n",
        "Is_speed_good -> int 1 or 0 -> 팔굽혀펴기 속도가 적당하면(1회당 1초 이상) 1, 너무 빠르면(1회당 1초 미만) 0 \n",
        "예를 들어, pushup[0]이 [1,0,1,1,1]이면 첫번째 푸쉬업 동작이 올라올 때 팔꿈치를 완전히 폈고, 내려갈때 완전히 팔을 굽히지는 않았으며, 골반은 과도하게 내려갔고,\n",
        "무릎각도는 정상범위이며 속도가 너무 빠르지않다는 의미이다.\n",
        "\"\"\"\n",
        "\n",
        "if cap.isOpened():\n",
        "    width = int(cap.get(cv2.CAP_PROP_FRAME_WIDTH))\n",
        "    height = int(cap.get(cv2.CAP_PROP_FRAME_HEIGHT))\n",
        "\n",
        "    res=(int(width), int(height))\n",
        "    fourcc = cv2.VideoWriter_fourcc(*'MP4V') #codec\n",
        "    out = cv2.VideoWriter('4test.mp4', fourcc, 20.0, res)\n",
        "\n",
        "    frame = None\n",
        "    while True:\n",
        "      try:\n",
        "        ret, frame = cap.read()\n",
        "      except cv2.error:\n",
        "        continue\n",
        "      if not ret:\n",
        "        break\n",
        "\n",
        "      image = cv2.cvtColor(frame, cv2.COLOR_BGR2RGB)\n",
        "      results = pose.process(image)\n",
        "\n",
        "      if results.pose_landmarks:\n",
        "        mp_drawing.draw_landmarks(frame, results.pose_landmarks, mp_pose.POSE_CONNECTIONS)\n",
        "        landmark = results.pose_landmarks.landmark\n",
        "        for key,val in joint_indx.items():\n",
        "          first,mid,end = find_xyz(val, landmark)\n",
        "          angle = calculate_angle2D(first,mid,end, 1) #각도 계산\n",
        "          mid = mid[0:2]\n",
        "          cv2.putText(frame, str(int(angle)),tuple(np.multiply(mid, [width,height]).astype(int)),cv2.FONT_HERSHEY_SIMPLEX, 1.2, (0,255,0),5,cv2.LINE_AA)\n",
        "          temp[key].append(angle)\n",
        "\n",
        "\n",
        "        ####################################################################################################\n",
        "        elbow_angle = temp['right_elbow'][-1]\n",
        "        Is_elbow_up = (elbow_angle > 130)\n",
        "        Is_elbow_down = (elbow_angle < 110)\n",
        "        hip_angle = temp['right_hip'][-1]\n",
        "        hip_condition = (hip_angle >140) and (hip_angle < 220)\n",
        "        knee_angle = temp['right_knee'][-1]\n",
        "        knee_condition = (knee_angle > 130) and (knee_angle < 205)\n",
        "        lower_body_condition = hip_condition and knee_condition\n",
        "\n",
        "        # 팔굽혀펴기 시작 자세 판단\n",
        "        if not Is_start:\n",
        "          Is_pushup_angle = (elbow_angle > 140) and (elbow_angle < 190) and (hip_angle >140) and (hip_angle < 200) and (knee_angle > 125) and (knee_angle < 190) \n",
        "          if Is_pushup_angle:\n",
        "            ##########################################################################################\n",
        "            # 여기에 음성으로 '시작합니다!' 라고 말해주면 좋을거같습니다. 이때부터 자세 평가 시작합니다.\n",
        "            ##########################################################################################\n",
        "            Is_start = True\n",
        "\n",
        "        if not Is_start:\n",
        "          temp['right_elbow'].pop()\n",
        "          temp['right_hip'].pop()\n",
        "          temp['right_knee'].pop()\n",
        "          continue\n",
        "\n",
        "        # identify if capctured image is outlier\n",
        "        if IsOutlier_pushups(temp['right_elbow'], 0) or IsOutlier_pushups(temp['right_hip'], 1) or IsOutlier_pushups(temp['right_knee'], 2):\n",
        "            temp['right_elbow'].pop()\n",
        "            temp['right_hip'].pop()\n",
        "            temp['right_knee'].pop()\n",
        "            continue   \n",
        "        ##########################################################################################################\n",
        "        \n",
        "        if Is_elbow_up and elbow_state == 'down' and lower_body_condition:\n",
        "\n",
        "          # down state부터 up state까지 시간이 측정됨. 다만 코드 실행시 시간측정이라 real time에서도 잘 작동하는지 봐야함. 연산에 의한 latency가 발생할 수 있기 때문\n",
        "          end = time.time()\n",
        "\n",
        "          elbow_state = 'up'\n",
        "          element = []\n",
        "\n",
        "          # 팔꿈치를 핀 정도가 160도보다 큰 경우\n",
        "          if max(temp['right_elbow']) > 160:\n",
        "            element.append(1)\n",
        "          # 팔꿈치를 덜 핀 경우\n",
        "          else:\n",
        "            element.append(0)\n",
        "\n",
        "          # 팔꿈치를 굽힌 정도가 70도보다 작은 경우\n",
        "          if min(temp['right_elbow']) < 70:\n",
        "            element.append(1)\n",
        "          # 팔꿈치를 덜 굽힌 경우\n",
        "          else:\n",
        "            element.append(0)\n",
        "          # 팔꿈치 각도 데이터 초기화 (어플에서의 변수 저장 값이 많아지는 것을 방지하기 위해 팔굽 하나 할때마다 각도 축적해놓은거를 초기화함.)\n",
        "          temp['right_elbow'] = []\n",
        "\n",
        "          # 팔꿈치 굽혔다 필 동안 골반이 152도보다 내려갔는지(골반이 너무 아래로 내려갔는지)\n",
        "          if min(temp['right_hip']) < 152:\n",
        "            element.append(1)\n",
        "          # 팔꿈치 굽혔다 필 동안 골반이 250도보다 올라갔는지(골반이 너무 위로 올라갔는지)\n",
        "          elif max(temp['right_hip']) > 250:\n",
        "            element.append(2)\n",
        "          # 팔굽하는 동안 골반이 정상 자세(152~250도 사이값)인 경우\n",
        "          else:\n",
        "            element.append(0)\n",
        "          temp['right_hip'] = []\n",
        "\n",
        "          # knee condition\n",
        "          if min(temp['right_knee']) < 130:\n",
        "            element.append(0)\n",
        "          else:\n",
        "            element.append(1)\n",
        "          temp['right_knee'] = []\n",
        "\n",
        "          #Is_speed_good\n",
        "          # down state부터 up state까지 시간차이가 1초가 되는지 판단함. 다만 코드 실행시 시간측정이라 real time에서도 잘 작동하는지 봐야함. 연산에 의한 latency가 발생할 수 있기 때문\n",
        "          if end - start < 1:\n",
        "            element.append(0)\n",
        "          else:\n",
        "            element.append(1)\n",
        "\n",
        "\n",
        "          \"\"\"\n",
        "          개수 카운팅 되는 부분입니다. 이 부분에 음성으로 하나, 둘, 셋, ... 이렇게 개수를 세어주면 좋을거 같습니다.\n",
        "          또한, element의 값을 보고 실시간으로 하는 피드백도 이 부분에 대입하는게 좋을거 같습니다.\n",
        "          element는 [Is_elbow_up, Is_elbow_down, hip_condition, knee_condition, Is_speed_good]입니다. 각각에 대한 설명은 위 주석에 있습니다.\n",
        "          \"\"\"\n",
        "          pushups.append(element)\n",
        "\n",
        "        elif Is_elbow_down and elbow_state == 'up' and lower_body_condition:\n",
        "          elbow_state = 'down'\n",
        "          # down state부터 up state까지 시간이 측정됨. 다만 코드 실행시 시간측정이라 real time에서도 잘 작동하는지 봐야함. 연산에 의한 latency가 발생할 수 있기 때문\n",
        "          start = time.time()\n",
        "\n",
        "        cv2.putText(frame, str(len(pushups)), (200,300), cv2.FONT_HERSHEY_PLAIN, 4, (255,255,255),2, cv2.LINE_AA)\n",
        "\n",
        "      out.write(frame)\n",
        "    out.release()\n",
        "\n"
      ],
      "execution_count": null,
      "outputs": []
    },
    {
      "cell_type": "markdown",
      "metadata": {
        "id": "ZrCh9AWxW5Od"
      },
      "source": [
        "##3D angle"
      ]
    },
    {
      "cell_type": "code",
      "metadata": {
        "id": "ZA6_mqf7Bsn-"
      },
      "source": [
        "video_path = \"/content/wrong/7.mp4\"\n",
        "cap = cv2.VideoCapture(video_path)\n",
        "elbow_state = 'up'\n",
        "\n",
        "# 팔굽혀펴기 1회 측정 시간\n",
        "start = 0\n",
        "end = 0\n",
        "\n",
        "#우측 관절값\n",
        "joint_indx = {'right_elbow':[16,14,12],'right_hip':[12,24,26],'right_knee':[24,26,28]} \n",
        "\n",
        "\"\"\"\n",
        "temp은 팔굽혀펴기 운동을 한번 할떄마다(내려갔다 올라올 때마다) 해당 관절 부분의 각도를 최신화함. 이전에 했던 팔굽혀펴기의 각도값들은 다 초기화함.\n",
        "      -> 앱 상에서 관절 각도값을 저장하는 데에 무리가 가지않게 list를 초기화시켜줌.\n",
        "\"\"\"\n",
        "temp = {'right_elbow':[],'right_hip':[],'right_knee':[]}\n",
        "pushups = []\n",
        "\n",
        "\"\"\"\n",
        "pushups는 list(list)형식이다. 안쪽 list는 length가 5이며 각각 Is_elbow_up, Is_elbow_down, hip_condition, knee_condition, Is_speed_good을 의미한다.\n",
        "Is_elbow_up -> int 0 or 1 -> 팔꿈치를 완전히 펴면 1, 완전히 펴지 않으면 0\n",
        "Is_elbow_down -> int 0 or 1 -> 팔꿈치를 완전히 굽히면 1, 완전히 굽히지 않으면 0\n",
        "hip_condition -> int 0 or 1 or 2 -> 골반이 정상이면 0, 너무 내려가면 1, 너무 올라가면 2\n",
        "knee_condition -> int 1 or 0 -> 무릎 각도가 정상범위면 1, 너무 내려가면 0\n",
        "Is_speed_good -> int 1 or 0 -> 팔굽혀펴기 속도가 적당하면(1회당 1초 이상) 1, 너무 빠르면(1회당 1초 미만) 0 \n",
        "예를 들어, pushup[0]이 [1,0,1,1,1]이면 첫번째 푸쉬업 동작이 올라올 때 팔꿈치를 완전히 폈고, 내려갈때 완전히 팔을 굽히지는 않았으며, 골반은 과도하게 내려갔고,\n",
        "무릎각도는 정상범위이며 속도가 너무 빠르지않다는 의미이다.\n",
        "\"\"\"\n",
        "\n",
        "if cap.isOpened():\n",
        "    width = int(cap.get(cv2.CAP_PROP_FRAME_WIDTH))\n",
        "    height = int(cap.get(cv2.CAP_PROP_FRAME_HEIGHT))\n",
        "\n",
        "    res=(int(width), int(height))\n",
        "    fourcc = cv2.VideoWriter_fourcc(*'MP4V') #codec\n",
        "    out = cv2.VideoWriter('wtemp7.mp4', fourcc, 20.0, res)\n",
        "\n",
        "    frame = None\n",
        "    while True:\n",
        "      try:\n",
        "        ret, frame = cap.read()\n",
        "      except cv2.error:\n",
        "        continue\n",
        "      if not ret:\n",
        "        break\n",
        "\n",
        "      image = cv2.cvtColor(frame, cv2.COLOR_BGR2RGB)\n",
        "      results = pose.process(image)\n",
        "\n",
        "      if results.pose_landmarks:\n",
        "        mp_drawing.draw_landmarks(frame, results.pose_landmarks, mp_pose.POSE_CONNECTIONS)\n",
        "        for id, im in enumerate(results.pose_landmarks.landmark):\n",
        "          h, w, c = frame.shape\n",
        "          cx, cy = int(im.x*w), int(im.y*h)\n",
        "          cv2.circle(frame, (cx,cy), 5, (255, 0, 0), cv2.FILLED)\n",
        "        landmark = results.pose_landmarks.landmark\n",
        "        for key,val in joint_indx.items():\n",
        "          first,mid,end = find_xyz(val, landmark)\n",
        "          angle = calculate_angle3D(first,mid,end, 1) #각도 계산\n",
        "          mid = mid[0:2]\n",
        "          cv2.putText(frame, str(angle),tuple(np.multiply(mid, [2400,1080]).astype(int)),cv2.FONT_HERSHEY_SIMPLEX, 1.2, (255,0,0),5,cv2.LINE_AA)\n",
        "          temp[key].append(angle)\n",
        "\n",
        "        elbow_angle = temp['right_elbow'][-1]\n",
        "        Is_elbow_up = (elbow_angle > 137.5)\n",
        "        Is_elbow_down = (elbow_angle < 127.5)\n",
        "\n",
        "        \n",
        "        hip_angle = temp['right_hip'][-1]\n",
        "        hip_condition = (hip_angle >150) and (hip_angle < 220)\n",
        "        knee_angle = temp['right_knee'][-1]\n",
        "        knee_condition = (knee_angle > 152) and (knee_angle < 200)\n",
        "        lower_body_condition = hip_condition and knee_condition\n",
        "\n",
        "        if Is_elbow_up and elbow_state == 'down' and lower_body_condition:\n",
        "\n",
        "          # down state부터 up state까지 시간이 측정됨. 다만 코드 실행시 시간측정이라 real time에서도 잘 작동하는지 봐야함. 연산에 의한 latency가 발생할 수 있기 때문\n",
        "          end = time.time()\n",
        "\n",
        "          elbow_state = 'up'\n",
        "          element = []\n",
        "\n",
        "          # 팔꿈치를 핀 정도가 160도보다 큰 경우\n",
        "          if max(temp['right_elbow']) > 160:\n",
        "            element.append(1)\n",
        "          # 팔꿈치를 덜 핀 경우\n",
        "          else:\n",
        "            element.append(0)\n",
        "\n",
        "          # 팔꿈치를 굽힌 정도가 90도보다 작은 경우\n",
        "          if min(temp['right_elbow']) < 90:\n",
        "            element.append(1)\n",
        "          # 팔꿈치를 덜 굽힌 경우\n",
        "          else:\n",
        "            element.append(0)\n",
        "          # 팔꿈치 각도 데이터 초기화 (어플에서의 변수 저장 값이 많아지는 것을 방지하기 위해 팔굽 하나 할때마다 각도 축적해놓은거를 초기화함.)\n",
        "          temp['right_elbow'] = []\n",
        "\n",
        "          # 팔꿈치 굽혔다 필 동안 골반이 160도보다 내려갔는지(골반이 너무 아래로 내려갔는지)\n",
        "          if min(temp['right_hip']) < 160:\n",
        "            element.append(1)\n",
        "          # 팔꿈치 굽혔다 필 동안 골반이 220도보다 올라갔는지(골반이 너무 위로 올라갔는지)\n",
        "          elif max(temp['right_hip']) > 220:\n",
        "            element.append(2)\n",
        "          # 팔굽하는 동안 골반이 정상 자세(160~220도 사이값)인 경우\n",
        "          else:\n",
        "            element.append(0)\n",
        "          temp['right_hip'] = []\n",
        "\n",
        "          # knee condition\n",
        "          if min(temp['right_knee']) < 152:\n",
        "            element.append(0)\n",
        "          else:\n",
        "            element.append(1)\n",
        "          temp['right_knee'] = []\n",
        "\n",
        "          #Is_speed_good\n",
        "          # down state부터 up state까지 시간차이가 1초가 되는지 판단함. 다만 코드 실행시 시간측정이라 real time에서도 잘 작동하는지 봐야함. 연산에 의한 latency가 발생할 수 있기 때문\n",
        "          if end - start < 1:\n",
        "            element.append(0)\n",
        "          else:\n",
        "            element.append(1)\n",
        "\n",
        "\n",
        "          \"\"\"\n",
        "          개수 카운팅 되는 부분입니다. 이 부분에 음성으로 하나, 둘, 셋, ... 이렇게 개수를 세어주면 좋을거 같습니다.\n",
        "          또한, element의 값을 보고 실시간으로 하는 피드백도 이 부분에 대입하는게 좋을거 같습니다.\n",
        "          element는 [Is_elbow_up, Is_elbow_down, hip_condition, knee_condition, Is_speed_good]입니다. 각각에 대한 설명은 위 주석에 있습니다.\n",
        "          \"\"\"\n",
        "          pushups.append(element)\n",
        "\n",
        "        elif Is_elbow_down and elbow_state == 'up' and lower_body_condition:\n",
        "          elbow_state = 'down'\n",
        "          # down state부터 up state까지 시간이 측정됨. 다만 코드 실행시 시간측정이라 real time에서도 잘 작동하는지 봐야함. 연산에 의한 latency가 발생할 수 있기 때문\n",
        "          start = time.time()\n",
        "\n",
        "        cv2.putText(frame, str(len(pushups)), (200,300), cv2.FONT_HERSHEY_PLAIN, 4, (255,255,255),2, cv2.LINE_AA)\n",
        "\n",
        "      out.write(frame)\n",
        "    out.release()\n",
        "\n"
      ],
      "execution_count": null,
      "outputs": []
    },
    {
      "cell_type": "code",
      "metadata": {
        "colab": {
          "base_uri": "https://localhost:8080/"
        },
        "id": "YXKHoiPP62uM",
        "outputId": "1a0d7f4e-dc2a-4bad-fc03-8d3351e108e6"
      },
      "source": [
        "pushups"
      ],
      "execution_count": null,
      "outputs": [
        {
          "output_type": "execute_result",
          "data": {
            "text/plain": [
              "[]"
            ]
          },
          "metadata": {},
          "execution_count": 22
        }
      ]
    },
    {
      "cell_type": "code",
      "metadata": {
        "colab": {
          "base_uri": "https://localhost:8080/"
        },
        "id": "Xl1BUfkp4KwW",
        "outputId": "47450660-9dee-49ce-caf3-3a2bcf6133b8"
      },
      "source": [
        "len(pushups)"
      ],
      "execution_count": null,
      "outputs": [
        {
          "output_type": "execute_result",
          "data": {
            "text/plain": [
              "16"
            ]
          },
          "metadata": {},
          "execution_count": 9
        }
      ]
    },
    {
      "cell_type": "markdown",
      "metadata": {
        "id": "XmMxw0RM99Ah"
      },
      "source": [
        "#**Evaulate Pushups**"
      ]
    },
    {
      "cell_type": "code",
      "metadata": {
        "id": "78BcXP6O93OW"
      },
      "source": [
        "def pushups_to_score(pushups):\n",
        "  each_score = []\n",
        "  for e in pushups:\n",
        "    Is_elbow_up = e[0]\n",
        "    Is_elbow_down = e[1]\n",
        "    Is_hip_good = 0\n",
        "    if e[2] == 0:\n",
        "      Is_hip_good = 1\n",
        "    Is_knee_good = e[3]\n",
        "    Is_speed_good = e[4]\n",
        "    each_score.append(Is_elbow_up*25+Is_elbow_down*30+Is_hip_good*30+Is_knee_good*8+Is_speed_good*7)\n",
        "  return each_score"
      ],
      "execution_count": null,
      "outputs": []
    },
    {
      "cell_type": "code",
      "metadata": {
        "colab": {
          "base_uri": "https://localhost:8080/"
        },
        "id": "7l_tsHtQADDE",
        "outputId": "8f90cc15-70a1-44cc-e794-caa8b5359fa8"
      },
      "source": [
        "# pushups score for each reptition\n",
        "pushups_to_score(pushups)"
      ],
      "execution_count": null,
      "outputs": [
        {
          "output_type": "execute_result",
          "data": {
            "text/plain": [
              "[62, 70, 40, 32, 32, 70, 70, 70, 70, 70, 70, 70, 70, 70, 70, 70]"
            ]
          },
          "metadata": {},
          "execution_count": 34
        }
      ]
    },
    {
      "cell_type": "code",
      "metadata": {
        "colab": {
          "base_uri": "https://localhost:8080/"
        },
        "id": "z4lt4iHoA0D5",
        "outputId": "063eaab6-3d60-43ca-c96e-bdf0e1be778d"
      },
      "source": [
        "#total_score\n",
        "sum(pushups_to_score(pushups))"
      ],
      "execution_count": null,
      "outputs": [
        {
          "output_type": "execute_result",
          "data": {
            "text/plain": [
              "1006"
            ]
          },
          "metadata": {},
          "execution_count": 35
        }
      ]
    },
    {
      "cell_type": "code",
      "metadata": {
        "id": "mqfR8vnnFkFM",
        "colab": {
          "base_uri": "https://localhost:8080/",
          "height": 16
        },
        "outputId": "ff5ade91-24fc-4a2c-dc37-8ea67e92ea98"
      },
      "source": [
        "from google.colab import files\n",
        "files.download('wtemp6.mp4')\n"
      ],
      "execution_count": null,
      "outputs": [
        {
          "output_type": "display_data",
          "data": {
            "application/javascript": [
              "\n",
              "    async function download(id, filename, size) {\n",
              "      if (!google.colab.kernel.accessAllowed) {\n",
              "        return;\n",
              "      }\n",
              "      const div = document.createElement('div');\n",
              "      const label = document.createElement('label');\n",
              "      label.textContent = `Downloading \"${filename}\": `;\n",
              "      div.appendChild(label);\n",
              "      const progress = document.createElement('progress');\n",
              "      progress.max = size;\n",
              "      div.appendChild(progress);\n",
              "      document.body.appendChild(div);\n",
              "\n",
              "      const buffers = [];\n",
              "      let downloaded = 0;\n",
              "\n",
              "      const channel = await google.colab.kernel.comms.open(id);\n",
              "      // Send a message to notify the kernel that we're ready.\n",
              "      channel.send({})\n",
              "\n",
              "      for await (const message of channel.messages) {\n",
              "        // Send a message to notify the kernel that we're ready.\n",
              "        channel.send({})\n",
              "        if (message.buffers) {\n",
              "          for (const buffer of message.buffers) {\n",
              "            buffers.push(buffer);\n",
              "            downloaded += buffer.byteLength;\n",
              "            progress.value = downloaded;\n",
              "          }\n",
              "        }\n",
              "      }\n",
              "      const blob = new Blob(buffers, {type: 'application/binary'});\n",
              "      const a = document.createElement('a');\n",
              "      a.href = window.URL.createObjectURL(blob);\n",
              "      a.download = filename;\n",
              "      div.appendChild(a);\n",
              "      a.click();\n",
              "      div.remove();\n",
              "    }\n",
              "  "
            ],
            "text/plain": [
              "<IPython.core.display.Javascript object>"
            ]
          },
          "metadata": {}
        },
        {
          "output_type": "display_data",
          "data": {
            "application/javascript": [
              "download(\"download_d24df9fa-b3d7-4629-a3cc-c84429e7ebd2\", \"wtemp6.mp4\", 72947117)"
            ],
            "text/plain": [
              "<IPython.core.display.Javascript object>"
            ]
          },
          "metadata": {}
        }
      ]
    },
    {
      "cell_type": "markdown",
      "metadata": {
        "id": "vRyTnOuOqRMp"
      },
      "source": [
        "#**Checking Conditions for Squat**"
      ]
    },
    {
      "cell_type": "code",
      "metadata": {
        "id": "h2v1yrgT7Sh6"
      },
      "source": [
        "def get_distance(lm_from, lm_to):\n",
        "  x2 = (lm_from.x - lm_to.x)**2\n",
        "  y2 = (lm_from.y-lm_to.y)**2\n",
        "  return (x2+y2)**0.5"
      ],
      "execution_count": null,
      "outputs": []
    },
    {
      "cell_type": "code",
      "metadata": {
        "id": "-yXCjfbvDmAH"
      },
      "source": [
        "video_path = \"/content/squat/4.mp4\"\n",
        "cap = cv2.VideoCapture(video_path)\n",
        "squat_state = 'up'\n",
        "Is_knee_out = False\n",
        "\n",
        "# 스쿼트 1회 측정 시간\n",
        "start = 0\n",
        "end = 0\n",
        "\n",
        "\n",
        "  # a = [215 for i in range(L)]\n",
        "  # b = [240 for i in range(L)]\n",
        "  # c = [147.5 for i in range(L)]\n",
        "\n",
        "#우측 관절값\n",
        "joint_indx = {'right_hip':[12,24,26],'right_knee':[24,26,28]} \n",
        "\n",
        "\"\"\"\n",
        "temp_squat은 스쿼트 운동을 한번 할떄마다(내려갔다 올라올 때마다) 해당 관절 부분의 각도를 최신화함. 이전에 했던 스쿼트의 각도값들은 다 초기화함.\n",
        "      -> 앱 상에서 관절 각도값을 저장하는 데에 무리가 가지않게 list를 초기화시켜줌.\n",
        "\"\"\"\n",
        "temp_squat = {'right_hip':[],'right_knee':[], 'average_hip_knee' : [], 'foot_length' : [], 'toe_location' : []} \n",
        "squats = []\n",
        "\n",
        "\"\"\"\n",
        "squats는 list(list)형식이다. 안쪽 list는 length가 5이며 각각 Is_relaxation, Is_contraction, Hip_knee_relation, Is_knee_in, Is_speed_good을 의미한다.\n",
        "Is_relaxation -> int 0 or 1 -> hip과 무릎을 완전히 펴면 1, 완전히 펴지 않으면 0\n",
        "Is_contraction -> int 0 or 1 -> hip과 무릎을 완전히 굽히면 1, 완전히 굽히지 않으면 0\n",
        "Hip_knee_relation -> int 0 or 1 or 2 -> 스쿼트 시 엉덩이가 내려가면서 무릎을 굽히면(운동 시 엉덩이의 값과 무릎의 각도의 평균값이 180도와 비슷하면) 0, 무릎을 굽히지 않고 엉덩이를 뒤로 빼면 1,\n",
        "                                        엉덩이를 뒤로 빼지 않고 무릎만 굽히면 2\n",
        "Is_knee_in -> int 1 or 0 -> 무릎이 발끝(엄지발가락)을 넘지 않으면1, 넘어가면 0\n",
        "Is_speed_good -> int 1 or 0 -> 스쿼트 속도가 적당하면(1회당 1초 이상) 1, 너무 빠르면(1회당 1초 미만) 0 \n",
        "예를 들어, squats[0]이 [1,0,2,1,1]이면 첫번째 스쿼트 동작이 올라올 때 완전히 이완을 했고, 내려갈때 완전히 수축하진 않았으며(엉덩이를 더 내려야함),\n",
        "엉덩이를 빼기보단 무릎만 굽혔고, 무릎이 발끝을 넘어가지 않았으며, 속도가 적당하다는 의미이다.\n",
        "\"\"\"\n",
        "\n",
        "if cap.isOpened():\n",
        "  width = int(cap.get(cv2.CAP_PROP_FRAME_WIDTH))\n",
        "  height = int(cap.get(cv2.CAP_PROP_FRAME_HEIGHT))\n",
        "\n",
        "  res=(int(width), int(height))\n",
        "  fourcc = cv2.VideoWriter_fourcc(*'MP4V') #codec\n",
        "  out = cv2.VideoWriter('4out.mp4', fourcc, 20.0, res)\n",
        "\n",
        "  frame = None\n",
        "  while True:\n",
        "    try:\n",
        "      ret, frame = cap.read()\n",
        "    except cv2.error:\n",
        "      continue\n",
        "    if not ret:\n",
        "      break\n",
        "\n",
        "    image = cv2.cvtColor(frame, cv2.COLOR_BGR2RGB)\n",
        "    results = pose.process(image)\n",
        "\n",
        "    if results.pose_landmarks:\n",
        "      mp_drawing.draw_landmarks(frame, results.pose_landmarks, mp_pose.POSE_CONNECTIONS)\n",
        "      landmark = results.pose_landmarks.landmark\n",
        "      for key,val in joint_indx.items():\n",
        "        first,mid,end = find_xyz(val, landmark)\n",
        "        angle = calculate_angle3D(first,mid,end, 1) #각도 계산\n",
        "        mid = mid[0:2]\n",
        "        cv2.putText(frame, str(angle),tuple(np.multiply(mid, [width,height]).astype(int)),cv2.FONT_HERSHEY_SIMPLEX, 1.2, (255,0,0),5,cv2.LINE_AA)\n",
        "        temp_squat[key].append(angle)\n",
        "      knee_x = landmark[26].x # knee\n",
        "      toe_x = landmark[32].x # toe\n",
        "\n",
        "      ##########################수정사항############################\n",
        "      if squat_state == 'up':\n",
        "        temp_squat['foot_length'].append(get_distance(landmark[32], landmark[30]))\n",
        "        temp_squat['toe_location'].append(toe_x)\n",
        "      elif sum(temp_squat['toe_location'])/len(temp_squat['toe_location']) + sum(temp_squat['foot_length'])/len(temp_squat['foot_length'])*0.20 < knee_x:\n",
        "        # 무릎이 발끝보다 조금 나간거는 허용해줌(스쿼트 특성상 정확히 무릎이 발끝보다 덜 나가지 않음. 또한 오차값도 고려해서 발길이의 20%는 threshold값으로 설정함)\n",
        "        Is_knee_out = True\n",
        "      ###############################################################\n",
        "\n",
        "      hip_angle = temp_squat['right_hip'][-1]\n",
        "      knee_angle = temp_squat['right_knee'][-1]\n",
        "      temp_squat['average_hip_knee'].append((hip_angle + knee_angle) / 2)\n",
        "\n",
        "      ###########수정############################\n",
        "      Is_hip_up = hip_angle < 215\n",
        "      Is_hip_down = hip_angle > 250\n",
        "      Is_knee_up = knee_angle > 147.5\n",
        "      ###########################################\n",
        "\n",
        "      \n",
        "      if Is_hip_up and Is_knee_up and squat_state == 'down':\n",
        "        # down state부터 up state까지 시간이 측정됨. 다만 코드 실행시 시간측정이라 real time에서도 잘 작동하는지 봐야함. 연산에 의한 latency가 발생할 수 있기 때문\n",
        "        end = time.time()\n",
        "\n",
        "        squat_state = 'up'\n",
        "        element = []\n",
        "        # Is_relaxation\n",
        "        # 엉덩이를 핀 정도가 195도보다 작은 경우(완전히 이완)\n",
        "        if min(temp_squat['right_hip']) < 195:\n",
        "          element.append(1)\n",
        "        # 엉덩이를 덜 핀 경우\n",
        "        else:\n",
        "          element.append(0)\n",
        "\n",
        "        # Is_contraction\n",
        "        # 엉덩이를 굽힌 정도가 270도보다 큰 경우(완전히 수축)\n",
        "        if max(temp_squat['right_hip']) > 270:\n",
        "          element.append(1)\n",
        "        # 엉덩이를 덜 굽힌 경우\n",
        "        else:\n",
        "          element.append(0)\n",
        "\n",
        "        # 엉덩이 각도 데이터 초기화 (어플에서의 변수 저장 값이 많아지는 것을 방지하기 위해 스쿼트 하나 할때마다 각도 축적해놓은거를 초기화함.)\n",
        "        temp_squat['right_hip'] = []\n",
        "        temp_squat['right_knee'] = []\n",
        "\n",
        "\n",
        "        # Hip_knee_relation\n",
        "        # 스쿼트 동작동안 엉덩이와 무릎이 균형있게 내려가지 않고 엉덩이가 우선적으로 내려갔는지\n",
        "        if max(temp_squat['average_hip_knee']) > 205:   #########수정\n",
        "          element.append(1)\n",
        "        # 스쿼트 동작동안 엉덩이와 무릎이 균형있게 내려가지 않고 무릎이 우선적으로 내려갔는지\n",
        "        elif min(temp_squat['average_hip_knee']) < 165:   #########수정\n",
        "          element.append(2)\n",
        "        # 스쿼트 동작동안 엉덩이와 무릎이 균형있게 내려간 경우 (둘의 각도 평균값이 176~193의 경우)\n",
        "        else:\n",
        "          element.append(0)\n",
        "        temp_squat['average_hip_knee'] = []\n",
        "\n",
        "        # Is_knee_in\n",
        "        # 무릎이 발끝보다 안쪽에 있는지 유무\n",
        "        if Is_knee_out:\n",
        "          element.append(0)\n",
        "        else:\n",
        "          element.append(1)\n",
        "          \n",
        "          #Is_speed_good\n",
        "          # down state부터 up state까지 시간차이가 1초가 되는지 판단함. 다만 코드 실행시 시간측정이라 real time에서도 잘 작동하는지 봐야함. 연산에 의한 latency가 발생할 수 있기 때문\n",
        "        if end - start < 1:\n",
        "          element.append(0)\n",
        "        else:\n",
        "          element.append(1)\n",
        "\n",
        "        \"\"\"\n",
        "        개수 카운팅 되는 부분입니다. 이 부분에 음성으로 하나, 둘, 셋, ... 이렇게 개수를 세어주면 좋을거 같습니다.\n",
        "        또한, element의 값을 보고 실시간으로 하는 피드백도 이 부분에 대입하는게 좋을거 같습니다.\n",
        "        element는 [Is_relaxation, Is_contraction, Hip_knee_relation, Is_knee_in, Is_speed_good]입니다. 각각에 대한 설명은 위 주석에 있습니다.\n",
        "        \"\"\"\n",
        "\n",
        "        ######################추가사항###########################################\n",
        "        temp_squat['foot_length'] = []\n",
        "        temp_squat['toe_location'] = []\n",
        "        #########################################################################\n",
        "        squats.append(element)\n",
        "        Is_knee_out = False\n",
        "\n",
        "      elif Is_hip_down and (not Is_knee_up) and squat_state == 'up':\n",
        "        squat_state = 'down'\n",
        "        # down state부터 up state까지 시간이 측정됨. 다만 코드 실행시 시간측정이라 real time에서도 잘 작동하는지 봐야함. 연산에 의한 latency가 발생할 수 있기 때문\n",
        "        start = time.time()\n",
        "\n",
        "      cv2.putText(frame, str(len(squats)), (200,300), cv2.FONT_HERSHEY_PLAIN, 4, (255,255,255),2, cv2.LINE_AA)\n",
        "\n",
        "    out.write(frame)\n",
        "  out.release()\n",
        "\n"
      ],
      "execution_count": null,
      "outputs": []
    },
    {
      "cell_type": "code",
      "metadata": {
        "colab": {
          "base_uri": "https://localhost:8080/"
        },
        "id": "1hJidB19Ar-X",
        "outputId": "428cec92-3327-4888-9228-43240e8f4d2f"
      },
      "source": [
        "squats"
      ],
      "execution_count": null,
      "outputs": [
        {
          "output_type": "execute_result",
          "data": {
            "text/plain": [
              "[[1, 1, 0, 1, 1], [1, 0, 0, 1, 1], [1, 1, 0, 1, 1], [1, 1, 2, 1, 1]]"
            ]
          },
          "metadata": {},
          "execution_count": 49
        }
      ]
    },
    {
      "cell_type": "markdown",
      "metadata": {
        "id": "ezSChYsQB7G4"
      },
      "source": [
        "#**Evaulate Squats**"
      ]
    },
    {
      "cell_type": "code",
      "metadata": {
        "id": "g9X9O6FBBPoB"
      },
      "source": [
        "def squats_to_score(squats):\n",
        "  each_score = []\n",
        "  for e in squats:\n",
        "    Is_relaxation = e[0]\n",
        "    Is_contraction = e[1]\n",
        "    Is_hip_knee_good = 0\n",
        "    if e[2] == 0:\n",
        "      Is_hip_knee_good = 1\n",
        "    Is_knee_in = e[3]\n",
        "    Is_speed_good = e[4]\n",
        "    each_score.append(Is_relaxation*10+Is_contraction*20+Is_hip_knee_good*50+Is_knee_in*13+Is_speed_good*7)\n",
        "  return each_score"
      ],
      "execution_count": null,
      "outputs": []
    },
    {
      "cell_type": "code",
      "metadata": {
        "colab": {
          "base_uri": "https://localhost:8080/"
        },
        "id": "0fDWqccfDmiJ",
        "outputId": "689ce21d-1eae-494c-e6b1-c1a14f57b48e"
      },
      "source": [
        "# squats score for each reptition\n",
        "squats_to_score(squats)"
      ],
      "execution_count": null,
      "outputs": [
        {
          "output_type": "execute_result",
          "data": {
            "text/plain": [
              "[100, 80, 100, 50]"
            ]
          },
          "metadata": {},
          "execution_count": 46
        }
      ]
    },
    {
      "cell_type": "code",
      "metadata": {
        "colab": {
          "base_uri": "https://localhost:8080/"
        },
        "id": "uWrzhIDzDsnK",
        "outputId": "e5da7247-8664-400d-f0b6-20877b5932a6"
      },
      "source": [
        "sum(squats_to_score(squats))"
      ],
      "execution_count": null,
      "outputs": [
        {
          "output_type": "execute_result",
          "data": {
            "text/plain": [
              "330"
            ]
          },
          "metadata": {},
          "execution_count": 47
        }
      ]
    },
    {
      "cell_type": "code",
      "metadata": {
        "id": "MkGHlydND_lh"
      },
      "source": [
        "from google.colab import files\n",
        "files.download('4out.mp4')\n"
      ],
      "execution_count": null,
      "outputs": []
    },
    {
      "cell_type": "markdown",
      "metadata": {
        "id": "7DTT_H540W2t"
      },
      "source": [
        ""
      ]
    },
    {
      "cell_type": "markdown",
      "metadata": {
        "id": "GxNuC3Ut0W9e"
      },
      "source": [
        "#**Calculating angle(2D) for Pullups**"
      ]
    },
    {
      "cell_type": "code",
      "metadata": {
        "id": "WzX0x8QN0WLO"
      },
      "source": [
        "def calculate_angle2D(a,b,c,direction):\n",
        "  \"\"\"\n",
        "  calculate_angle2D is divided by left and right side because this function uses external product\n",
        "  input : a,b,c -> landmarks with shape [x,y,z,visibility]\n",
        "          direction -> int -1 or 1\n",
        "                      -1 means Video(photo) for a person's left side and 1 means Video(photo) for a person's right side\n",
        "  output : angle between vector ba and bc with range 0~360\n",
        "  \"\"\"\n",
        "  # external product's z value\n",
        "  external_z = (b[0]-a[0])*(b[1]-c[1]) - (b[1]-a[1])*(b[0]-c[0])\n",
        "\n",
        "  a = np.array(a[:2]) #first\n",
        "  b = np.array(b[:2]) #mid\n",
        "  c = np.array(c[:2]) #end\n",
        "\n",
        "  ba = b-a\n",
        "  bc = b-c\n",
        "  dot_result = np.dot(ba, bc)\n",
        "\n",
        "\n",
        "  ba_size = np.linalg.norm(ba)\n",
        "  bc_size = np.linalg.norm(bc)\n",
        "  radi = np.arccos(dot_result / (ba_size*bc_size))\n",
        "  angle = np.abs(radi*180.0/np.pi)\n",
        "\n",
        "  if external_z * direction > 0:\n",
        "    angle = 360 - angle\n",
        "\n",
        "  return angle\n"
      ],
      "execution_count": null,
      "outputs": []
    },
    {
      "cell_type": "code",
      "metadata": {
        "id": "pFN6iYdEzIrN"
      },
      "source": [
        "def calculate_angle2D_vector(v1, v2):\n",
        "  \"\"\"\n",
        "  calculate_angle2D_vector uses only internal product\n",
        "  input : two lists(vectors) with length 2\n",
        "          [x1, y1]\n",
        "  output : angle between vector v1 and v2 with range 0~180\n",
        "  \"\"\"\n",
        "\n",
        "  dot_result = np.dot(v1, v2)\n",
        "\n",
        "  v1_size = np.linalg.norm(v1)\n",
        "  v2_size = np.linalg.norm(v2)\n",
        "  radi = np.arccos(dot_result / (v1_size*v2_size))\n",
        "  \n",
        "  angle = np.abs(radi*180.0/np.pi)\n",
        "\n",
        "  return angle\n"
      ],
      "execution_count": null,
      "outputs": []
    },
    {
      "cell_type": "markdown",
      "metadata": {
        "id": "KextnAEppIbR"
      },
      "source": [
        "#**Checking Conditions for Pullups**"
      ]
    },
    {
      "cell_type": "markdown",
      "metadata": {
        "id": "ctE-ZEQSCKEI"
      },
      "source": [
        "##**Counting & Evaluation without using Segmentation**"
      ]
    },
    {
      "cell_type": "code",
      "metadata": {
        "id": "jgu_iUv4Cubl"
      },
      "source": [
        "video_path = \"/content/pullupside/r1.mp4\"\n",
        "cap = cv2.VideoCapture(video_path)\n",
        "pullup_state = 'down'\n",
        "Is_totally_contraction = False\n",
        "Was_totally_contraction = False\n",
        "human_pixel_cnt = 0\n",
        "\n",
        "\n",
        "# 풀업 1회 측정 시간\n",
        "start = 0\n",
        "end = 0\n",
        "\n",
        "\n",
        "# segmentation threshold\n",
        "th = 0.65\n",
        "\n",
        "# 95, 110\n",
        "\n",
        "#우측 관절값\n",
        "joint_indx = {'right_elbow':[16,14,12],'right_shoulder':[14,12,24]} \n",
        "\n",
        "\"\"\"\n",
        "temp_pullup은 풀업 운동을 한번 할때마다(내려갔다 올라올 때마다) 해당 관절 부분의 각도를 최신화함. 이전에 했던 풀업의 각도값들은 다 초기화함.\n",
        "      -> 앱 상에서 관절 각도값을 저장하는 데에 무리가 가지않게 list를 초기화시켜줌.\n",
        "\"\"\"\n",
        "temp_pullup = {'right_elbow':[],'right_shoulder':[], 'elbow_normY' : []} \n",
        "pullups = []\n",
        "\n",
        "\"\"\"\n",
        "pullups는 list(list)형식이다. 안쪽 list는 length가 4이며 각각 Is_relaxation, Is_contraction, Is_elbow_stable, Is_speed_good을 의미한다.\n",
        "Is_relaxation -> int 0 or 1 -> 입의 높이가 손목의 높이보다 높게 올라가면(완전 수축하면) 1, 그렇지 않으면 0\n",
        "Is_contraction -> int 0 or 1 -> hip과 무릎을 완전히 굽히면 1, 완전히 굽히지 않으면 0\n",
        "Is_elbow_stable -> int 1 or 0 -> 팔꿈치와 지표면이 이루는 각도가 90도와 비슷하게 안정적이면 1, 각도의 변화량이 크면 0\n",
        "Is_speed_good -> int 1 or 0 -> 풀업 속도가 적당하면(1회당 1.5초 이상) 1, 너무 빠르면(1회당 3초 미만) 0 \n",
        "예를 들어, pullups[0]이 [1,0,1,1,1]이면 첫번째 풀업 동작이 올라올 때 완전히 이완을 했고, 내려갈때 완전히 수축하진 않았으며(입의 높이가 손목보다 높아야함),\n",
        "완전 수축 시 숄더패킹이 되어있었으며, 팔꿈치는 안정적이었고, 속도가 적당하다는 의미이다.\n",
        "\"\"\"\n",
        "\n",
        "\n",
        "if cap.isOpened():\n",
        "  width = int(cap.get(cv2.CAP_PROP_FRAME_WIDTH))\n",
        "  height = int(cap.get(cv2.CAP_PROP_FRAME_HEIGHT))\n",
        "\n",
        "  res=(int(width), int(height))\n",
        "  fourcc = cv2.VideoWriter_fourcc(*'MP4V') #codec\n",
        "  out = cv2.VideoWriter('r1out.mp4', fourcc, 20.0, res)\n",
        "\n",
        "  frame = None\n",
        "  output_image = None\n",
        "  while True:\n",
        "    try:\n",
        "      ret, frame = cap.read()\n",
        "    except cv2.error:\n",
        "      continue\n",
        "    if not ret:\n",
        "      break\n",
        "\n",
        "    image = cv2.cvtColor(frame, cv2.COLOR_BGR2RGB)\n",
        "    results = pose.process(image)\n",
        "\n",
        "    if results.pose_landmarks:\n",
        "      mp_drawing.draw_landmarks(frame, results.pose_landmarks, mp_pose.POSE_CONNECTIONS)\n",
        "      h, w, c = frame.shape\n",
        "      landmark = results.pose_landmarks.landmark\n",
        "      for key,val in joint_indx.items():\n",
        "        first,mid,end = find_xyz(val, landmark)\n",
        "        angle = calculate_angle2D(first,mid,end, 1) #각도 계산\n",
        "        mid = mid[0:2]\n",
        "        if key == 'right_shoulder' and angle < 30:\n",
        "          angle = 359\n",
        "        cv2.putText(frame, str(int(angle)),tuple(np.multiply(mid, [width,height]).astype(int)),cv2.FONT_HERSHEY_SIMPLEX, 1.2, (255,0,0),5,cv2.LINE_AA)\n",
        "        temp_pullup[key].append(angle)\n",
        "\n",
        "      # 손목-팔꿈치 직선과 y축 벡터가 이루는 각도를 계산 -> Is_elbow_stable에서 판단\n",
        "      arm = [landmark[14].x-landmark[16].x, landmark[14].y-landmark[16].y]\n",
        "      normY = [0, 1]\n",
        "      temp_pullup['elbow_normY'].append(calculate_angle2D_vector(arm, normY))\n",
        "\n",
        "\n",
        "      elbow_angle = temp_pullup['right_elbow'][-1]\n",
        "      shoulder_angle = temp_pullup['right_shoulder'][-1]\n",
        "      Is_elbow_up = (elbow_angle < 97.5)\n",
        "      Is_elbow_down = (elbow_angle > 110) and (elbow_angle < 180)\n",
        "      Is_shoulder_up = (shoulder_angle > 268 and shoulder_angle < 360)\n",
        "\n",
        "      #  right mouth, elbow, wrist의 높이 측정\n",
        "      # right_mouth의 높이\n",
        "      right_mouth_y = landmark[10].y\n",
        "      right_elbow_y = landmark[14].y\n",
        "      right_wrist_y = landmark[16].y\n",
        "\n",
        "      Is_mouth_upper_than_elbow = (right_mouth_y < right_elbow_y)\n",
        "      Is_mouth_upper_than_wrist = (right_mouth_y < right_wrist_y)\n",
        "      \n",
        "\n",
        "\n",
        "      #################Is_totally_contraction(완전수축)의 정의####################\n",
        "      if not Is_totally_contraction and Is_mouth_upper_than_wrist and elbow_angle < 100 and shoulder_angle > 280:\n",
        "        Is_totally_contraction = True\n",
        "      elif elbow_angle > 76 and (not Is_mouth_upper_than_wrist): \n",
        "        Is_totally_contraction = False\n",
        "        Was_totally_contraction = True\n",
        "      #############################################################################\n",
        "              \n",
        "      \n",
        "      if Is_elbow_down and (not Is_shoulder_up) and pullup_state == 'up' and (not Is_mouth_upper_than_elbow):\n",
        "        # down state부터 up state까지 시간이 측정됨. 다만 코드 실행시 시간측정이라 real time에서도 잘 작동하는지 봐야함. 연산에 의한 latency가 발생할 수 있기 때문\n",
        "        end = time.time()\n",
        "\n",
        "        pullup_state = 'down'\n",
        "        element = []\n",
        "        # Is_relaxation\n",
        "        # 팔꿈치를 핀 정도가 145도보다 크고, 어깨를 핀 정도가 250도 보다 큰 경우(완전히 이완)\n",
        "        if max(temp_pullup['right_elbow']) > 145 and min(temp_pullup['right_shoulder']) < 250:\n",
        "          element.append(1)\n",
        "        # 팔꿈치와 어깨를 덜 핀 경우\n",
        "        else:\n",
        "          element.append(0)\n",
        "\n",
        "        # Is_contraction\n",
        "        if Was_totally_contraction:\n",
        "          element.append(1)\n",
        "        else:\n",
        "          element.append(0)\n",
        "        Was_totally_contraction = False\n",
        "        \n",
        "\n",
        "        # 팔꿈치, 어깨 각도 데이터 초기화 (어플에서의 변수 저장 값이 많아지는 것을 방지하기 위해 풀업 하나 할때마다 각도 축적해놓은거를 초기화함.)\n",
        "        temp_pullup['right_hip'] = []\n",
        "        temp_pullup['right_knee'] = []\n",
        "        Is_totally_contraction = False\n",
        "\n",
        "        #Is_elbow_stable\n",
        "        # 손목-팔꿈치 직선이 y축과 이루는 각도의 최대값이 25도 이하이면 운동 중 팔꿈치를 고정시킨 것으로 판단\n",
        "        if max(temp_pullup['elbow_normY']) < 25:\n",
        "          element.append(1)\n",
        "        else:\n",
        "          element.append(0)\n",
        "        temp_pullup['elbow_normY'] = []\n",
        "        \n",
        "        #Is_speed_good\n",
        "        # up state부터 down state까지 시간차이가 1.5초가 되는지 판단함. 다만 코드 실행시 시간측정이라 real time에서도 잘 작동하는지 봐야함. 연산에 의한 latency가 발생할 수 있기 때문\n",
        "        if end - start < 1.5:\n",
        "          element.append(0)\n",
        "        else:\n",
        "          element.append(1)\n",
        "\n",
        "        \"\"\"\n",
        "        개수 카운팅 되는 부분입니다. 이 부분에 음성으로 하나, 둘, 셋, ... 이렇게 개수를 세어주면 좋을거 같습니다.\n",
        "        또한, element의 값을 보고 실시간으로 하는 피드백도 이 부분에 대입하는게 좋을거 같습니다.\n",
        "        element는 [Is_relaxation, Is_contraction, Hip_knee_relation, Is_knee_in, Is_speed_good]입니다. 각각에 대한 설명은 위 주석에 있습니다.\n",
        "        \"\"\"\n",
        "        pullups.append(element)\n",
        "\n",
        "      elif Is_elbow_up and Is_shoulder_up and pullup_state == 'down' and Is_mouth_upper_than_elbow:\n",
        "        pullup_state = 'up'\n",
        "        # up state부터 down state까지 시간이 측정됨. 다만 코드 실행시 시간측정이라 real time에서도 잘 작동하는지 봐야함. 연산에 의한 latency가 발생할 수 있기 때문\n",
        "        start = time.time()\n",
        "        \n",
        "\n",
        "      \n",
        "      cv2.putText(frame, str(len(pullups)), (200,300), cv2.FONT_HERSHEY_PLAIN, 4, (255,255,255),2, cv2.LINE_AA)\n",
        "    out.write(frame)\n",
        "  out.release()"
      ],
      "execution_count": null,
      "outputs": []
    },
    {
      "cell_type": "code",
      "metadata": {
        "colab": {
          "base_uri": "https://localhost:8080/"
        },
        "id": "S8kNSTbJDjNU",
        "outputId": "e05a25c8-f39a-4b13-c0a3-63cb42934e2d"
      },
      "source": [
        "pullups"
      ],
      "execution_count": null,
      "outputs": [
        {
          "output_type": "execute_result",
          "data": {
            "text/plain": [
              "[[1, 1, 1, 0], [1, 1, 0, 0]]"
            ]
          },
          "metadata": {},
          "execution_count": 24
        }
      ]
    },
    {
      "cell_type": "markdown",
      "metadata": {
        "id": "V79pE3bj49nx"
      },
      "source": [
        "##**Evaluate Pullups without shoulder packing**"
      ]
    },
    {
      "cell_type": "code",
      "metadata": {
        "id": "TSNjfN-h477K"
      },
      "source": [
        "def pullups_to_score_without_seg(pullups):\n",
        "  each_score = []\n",
        "  for e in pullups:\n",
        "    Is_relaxation = e[0]\n",
        "    Is_contraction = e[1]\n",
        "    Is_elbow_stable = e[2]\n",
        "    Is_speed_good = e[3]\n",
        "    each_score.append(Is_relaxation*15+Is_contraction*40+Is_elbow_stable*25+Is_speed_good*20)\n",
        "  return each_score"
      ],
      "execution_count": null,
      "outputs": []
    },
    {
      "cell_type": "code",
      "metadata": {
        "colab": {
          "base_uri": "https://localhost:8080/"
        },
        "id": "NVz07RbM5Ut8",
        "outputId": "2adb426a-859a-4ff3-fcad-d34eda326ee3"
      },
      "source": [
        "# pullups score for each reptition\n",
        "pullups_to_score_without_seg(pullups)"
      ],
      "execution_count": null,
      "outputs": [
        {
          "output_type": "execute_result",
          "data": {
            "text/plain": [
              "[80, 55]"
            ]
          },
          "metadata": {},
          "execution_count": 28
        }
      ]
    },
    {
      "cell_type": "code",
      "metadata": {
        "colab": {
          "base_uri": "https://localhost:8080/"
        },
        "id": "LXXQryRe5VpF",
        "outputId": "870956db-cac8-4c71-ebae-faee6039359b"
      },
      "source": [
        "sum(pullups_to_score_without_seg(pullups))"
      ],
      "execution_count": null,
      "outputs": [
        {
          "output_type": "execute_result",
          "data": {
            "text/plain": [
              "135"
            ]
          },
          "metadata": {},
          "execution_count": 29
        }
      ]
    },
    {
      "cell_type": "markdown",
      "metadata": {
        "id": "FvKSK5Z_CV65"
      },
      "source": [
        "##**Counting & Evaluation with using Segmentation**"
      ]
    },
    {
      "cell_type": "code",
      "metadata": {
        "id": "GivF-9_TpKeT"
      },
      "source": [
        "import math\n",
        "mp_selfie_segmentation = mp.solutions.selfie_segmentation\n",
        "selfie_segmentation = mp_selfie_segmentation.SelfieSegmentation()\n",
        "\n",
        "\n",
        "BG_COLOR = (192, 192, 192) # gray\n",
        "MASK_COLOR = (255, 255, 255) # white"
      ],
      "execution_count": null,
      "outputs": []
    },
    {
      "cell_type": "code",
      "metadata": {
        "id": "vMtXS0S5pMjL"
      },
      "source": [
        "video_path = \"/content/pullupside/r1.mp4\"\n",
        "cap = cv2.VideoCapture(video_path)\n",
        "pullup_state = 'down'\n",
        "Is_totally_contraction = False\n",
        "Was_totally_contraction = False\n",
        "human_pixel_cnt = 0\n",
        "\n",
        "\n",
        "# 풀업 1회 측정 시간\n",
        "start = 0\n",
        "end = 0\n",
        "\n",
        "\n",
        "# segmentation threshold\n",
        "th = 0.65\n",
        "\n",
        "# 95, 110\n",
        "\n",
        "#우측 관절값\n",
        "joint_indx = {'right_elbow':[16,14,12],'right_shoulder':[14,12,24]} \n",
        "\n",
        "\"\"\"\n",
        "temp_pullup은 풀업 운동을 한번 할때마다(내려갔다 올라올 때마다) 해당 관절 부분의 각도를 최신화함. 이전에 했던 풀업의 각도값들은 다 초기화함.\n",
        "      -> 앱 상에서 관절 각도값을 저장하는 데에 무리가 가지않게 list를 초기화시켜줌.\n",
        "\"\"\"\n",
        "temp_pullup = {'right_elbow':[],'right_shoulder':[], 'elbow_normY' : [], 'human_pixel_ratio' : []} \n",
        "pullups = []\n",
        "\n",
        "\"\"\"\n",
        "pullups는 list(list)형식이다. 안쪽 list는 length가 5이며 각각 Is_relaxation, Is_contraction, Is_shoulder_packing, Is_elbow_stable, Is_speed_good을 의미한다.\n",
        "Is_relaxation -> int 0 or 1 -> 입의 높이가 손목의 높이보다 높게 올라가면(완전 수축하면) 1, 그렇지 않으면 0\n",
        "Is_contraction -> int 0 or 1 -> hip과 무릎을 완전히 굽히면 1, 완전히 굽히지 않으면 0\n",
        "Is_shoulder_packing -> int 0 or 1 -> 완전 수축 시(입이 손목보다 높을 때) 숄더 패킹이 되어있는 상태면 1, 그렇지 않으면 0\n",
        "Is_elbow_stable -> int 1 or 0 -> 팔꿈치와 지표면이 이루는 각도가 90도와 비슷하게 안정적이면 1, 각도의 변화량이 크면 0\n",
        "Is_speed_good -> int 1 or 0 -> 풀업 속도가 적당하면(1회당 1.5초 이상) 1, 너무 빠르면(1회당 3초 미만) 0 \n",
        "예를 들어, pullups[0]이 [1,0,1,1,1]이면 첫번째 풀업 동작이 올라올 때 완전히 이완을 했고, 내려갈때 완전히 수축하진 않았으며(입의 높이가 손목보다 높아야함),\n",
        "완전 수축 시 숄더패킹이 되어있었으며, 팔꿈치는 안정적이었고, 속도가 적당하다는 의미이다.\n",
        "\"\"\"\n",
        "\n",
        "\n",
        "if cap.isOpened():\n",
        "  width = int(cap.get(cv2.CAP_PROP_FRAME_WIDTH))\n",
        "  height = int(cap.get(cv2.CAP_PROP_FRAME_HEIGHT))\n",
        "\n",
        "  res=(int(width), int(height))\n",
        "  fourcc = cv2.VideoWriter_fourcc(*'MP4V') #codec\n",
        "  out = cv2.VideoWriter('r1out.mp4', fourcc, 20.0, res)\n",
        "\n",
        "  frame = None\n",
        "  output_image = None\n",
        "  while True:\n",
        "    try:\n",
        "      ret, frame = cap.read()\n",
        "    except cv2.error:\n",
        "      continue\n",
        "    if not ret:\n",
        "      break\n",
        "\n",
        "    image = cv2.cvtColor(frame, cv2.COLOR_BGR2RGB)\n",
        "    results = pose.process(image)\n",
        "    if Is_totally_contraction: # 완전 수축된 경우에 segmentation 모델을 사용\n",
        "      results_segmentation = selfie_segmentation.process(image)\n",
        "      # Generate solid color images for showing the output selfie segmentation mask.\n",
        "      fg_image = np.zeros(image.shape, dtype=np.uint8)\n",
        "      fg_image[:] = MASK_COLOR\n",
        "      bg_image = np.zeros(image.shape, dtype=np.uint8)\n",
        "      bg_image[:] = BG_COLOR\n",
        "      condition = np.stack((results_segmentation.segmentation_mask,) * 3, axis=-1) > th\n",
        "      output_image = np.where(condition, fg_image, bg_image)\n",
        "\n",
        "    if results.pose_landmarks:\n",
        "      if not Is_totally_contraction:\n",
        "        mp_drawing.draw_landmarks(frame, results.pose_landmarks, mp_pose.POSE_CONNECTIONS)\n",
        "      else:\n",
        "        mp_drawing.draw_landmarks(output_image, results.pose_landmarks, mp_pose.POSE_CONNECTIONS)\n",
        "      h, w, c = frame.shape\n",
        "      landmark = results.pose_landmarks.landmark\n",
        "      for key,val in joint_indx.items():\n",
        "        first,mid,end = find_xyz(val, landmark)\n",
        "        angle = calculate_angle2D(first,mid,end, 1) #각도 계산\n",
        "        mid = mid[0:2]\n",
        "        if key == 'right_shoulder' and angle < 30:\n",
        "          angle = 359\n",
        "        if not Is_totally_contraction:\n",
        "          cv2.putText(frame, str(int(angle)),tuple(np.multiply(mid, [width,height]).astype(int)),cv2.FONT_HERSHEY_SIMPLEX, 1.2, (255,0,0),5,cv2.LINE_AA)\n",
        "        else:\n",
        "          cv2.putText(output_image, str(int(angle)),tuple(np.multiply(mid, [width,height]).astype(int)),cv2.FONT_HERSHEY_SIMPLEX, 1.2, (255,0,0),5,cv2.LINE_AA)\n",
        "        temp_pullup[key].append(angle)\n",
        "\n",
        "      # 손목-팔꿈치 직선과 y축 벡터가 이루는 각도를 계산 -> Is_elbow_stable에서 판단\n",
        "      arm = [landmark[14].x-landmark[16].x, landmark[14].y-landmark[16].y]\n",
        "      normY = [0, 1]\n",
        "      temp_pullup['elbow_normY'].append(calculate_angle2D_vector(arm, normY))\n",
        "\n",
        "\n",
        "      elbow_angle = temp_pullup['right_elbow'][-1]\n",
        "      shoulder_angle = temp_pullup['right_shoulder'][-1]\n",
        "      Is_elbow_up = (elbow_angle < 97.5)\n",
        "      Is_elbow_down = (elbow_angle > 110) and (elbow_angle < 180)\n",
        "      Is_shoulder_up = (shoulder_angle > 268 and shoulder_angle < 360)\n",
        "\n",
        "      #  right mouth, elbow, wrist의 높이 측정\n",
        "      # right_mouth의 높이\n",
        "      right_mouth_y = landmark[10].y\n",
        "      right_elbow_y = landmark[14].y\n",
        "      right_wrist_y = landmark[16].y\n",
        "\n",
        "      Is_mouth_upper_than_elbow = (right_mouth_y < right_elbow_y)\n",
        "      Is_mouth_upper_than_wrist = (right_mouth_y < right_wrist_y)\n",
        "      \n",
        "\n",
        "      \n",
        "      ############## 완전 수축을 한 뒤로부터 segmentation을 시작##################\n",
        "      ###################segmentation 부분########################################\n",
        "      if Is_totally_contraction:\n",
        "        # right_shoulder\n",
        "        cx1, cy1 = int(landmark[12].x*w), int(landmark[12].y*h)\n",
        "        # left_shoulder\n",
        "        cx3 = int(landmark[11].x*w)\n",
        "        cx1 = min(cx1, cx3)\n",
        "        # right_hip\n",
        "        cx2, cy2 = int(landmark[24].x*w), int(landmark[24].y*h)\n",
        "        middle = (3*cy1+5*cy2) // 8\n",
        "        length = abs(cy2 - middle)\n",
        "        for y in range(middle, cy2):\n",
        "          # print(output_image[y][cx1])\n",
        "        # 해당 픽셀이 하얀색일 경우(사람 픽셀의 경우)\n",
        "          if not ([255, 255, 255] - output_image[y][(3*cx1+cx2)//4]).any():\n",
        "            human_pixel_cnt += 1\n",
        "          # cv2.circle(output_image, ((3*cx1+cx2)//4,y), 2, (0, 255, 0), cv2.FILLED) -> 이부분 있으면 해당픽셀 색깔값이 잘 안잡힘\n",
        "        temp_pullup['human_pixel_ratio'].append(human_pixel_cnt / length)\n",
        "        human_pixel_cnt = 0\n",
        "      ############################################################################\n",
        "      ############################################################################\n",
        "\n",
        "\n",
        "\n",
        "      #################Is_totally_contraction(완전수축)의 정의####################\n",
        "      if not Is_totally_contraction and Is_mouth_upper_than_wrist and elbow_angle < 100 and shoulder_angle > 280: ## 이때부터 segmentation 시작\n",
        "        Is_totally_contraction = True\n",
        "      elif elbow_angle > 76 and (not Is_mouth_upper_than_wrist): ### 이때 segmentation 종료\n",
        "        Is_totally_contraction = False\n",
        "        Was_totally_contraction = True\n",
        "      #############################################################################\n",
        "              \n",
        "      \n",
        "      if Is_elbow_down and (not Is_shoulder_up) and pullup_state == 'up' and (not Is_mouth_upper_than_elbow):\n",
        "        # down state부터 up state까지 시간이 측정됨. 다만 코드 실행시 시간측정이라 real time에서도 잘 작동하는지 봐야함. 연산에 의한 latency가 발생할 수 있기 때문\n",
        "        end = time.time()\n",
        "\n",
        "        pullup_state = 'down'\n",
        "        element = []\n",
        "        # Is_relaxation\n",
        "        # 팔꿈치를 핀 정도가 145도보다 크고, 어깨를 핀 정도가 250도 보다 큰 경우(완전히 이완)\n",
        "        if max(temp_pullup['right_elbow']) > 145 and min(temp_pullup['right_shoulder']) < 250:\n",
        "          element.append(1)\n",
        "        # 팔꿈치와 어깨를 덜 핀 경우\n",
        "        else:\n",
        "          element.append(0)\n",
        "\n",
        "        # Is_contraction\n",
        "        if Was_totally_contraction:\n",
        "          element.append(1)\n",
        "        else:\n",
        "          element.append(0)\n",
        "        Was_totally_contraction = False\n",
        "        \n",
        "\n",
        "        # 팔꿈치, 어깨 각도 데이터 초기화 (어플에서의 변수 저장 값이 많아지는 것을 방지하기 위해 풀업 하나 할때마다 각도 축적해놓은거를 초기화함.)\n",
        "        temp_pullup['right_hip'] = []\n",
        "        temp_pullup['right_knee'] = []\n",
        "        Is_totally_contraction = False\n",
        "\n",
        "        #Is_shoulder_packing\n",
        "        ratio_sum = sum(temp_pullup['human_pixel_ratio'])\n",
        "        length_ratio = len(temp_pullup['human_pixel_ratio'])\n",
        "        Is_empty = (len(temp_pullup['human_pixel_ratio']) == 0)\n",
        "        if Is_empty or ((ratio_sum / length_ratio) > 0.5):\n",
        "          element.append(0)\n",
        "        else: # 어깨-골반 높이의 중심과 골반의 높이까지 선을 이었을 때 절반 이하가 사람인 픽셀이면 숄더패킹을 한 것으로 간주\n",
        "          element.append(1)\n",
        "        temp_pullup['human_pixel_ratio'] = []\n",
        "\n",
        "        #Is_elbow_stable\n",
        "        # 손목-팔꿈치 직선이 y축과 이루는 각도의 최대값이 25도 이하이면 운동 중 팔꿈치를 고정시킨 것으로 판단\n",
        "        if max(temp_pullup['elbow_normY']) < 25:\n",
        "          element.append(1)\n",
        "        else:\n",
        "          element.append(0)\n",
        "        temp_pullup['elbow_normY'] = []\n",
        "        \n",
        "        #Is_speed_good\n",
        "        # up state부터 down state까지 시간차이가 1.5초가 되는지 판단함. 다만 코드 실행시 시간측정이라 real time에서도 잘 작동하는지 봐야함. 연산에 의한 latency가 발생할 수 있기 때문\n",
        "        if end - start < 1.5:\n",
        "          element.append(0)\n",
        "        else:\n",
        "          element.append(1)\n",
        "\n",
        "        \"\"\"\n",
        "        개수 카운팅 되는 부분입니다. 이 부분에 음성으로 하나, 둘, 셋, ... 이렇게 개수를 세어주면 좋을거 같습니다.\n",
        "        또한, element의 값을 보고 실시간으로 하는 피드백도 이 부분에 대입하는게 좋을거 같습니다.\n",
        "        element는 [Is_relaxation, Is_contraction, Hip_knee_relation, Is_knee_in, Is_speed_good]입니다. 각각에 대한 설명은 위 주석에 있습니다.\n",
        "        \"\"\"\n",
        "        pullups.append(element)\n",
        "\n",
        "      elif Is_elbow_up and Is_shoulder_up and pullup_state == 'down' and Is_mouth_upper_than_elbow:\n",
        "        pullup_state = 'up'\n",
        "        # up state부터 down state까지 시간이 측정됨. 다만 코드 실행시 시간측정이라 real time에서도 잘 작동하는지 봐야함. 연산에 의한 latency가 발생할 수 있기 때문\n",
        "        start = time.time()\n",
        "        \n",
        "\n",
        "      \n",
        "      if not Is_totally_contraction:\n",
        "        cv2.putText(frame, str(len(pullups)), (200,300), cv2.FONT_HERSHEY_PLAIN, 4, (255,255,255),2, cv2.LINE_AA)\n",
        "      else:\n",
        "        cv2.putText(output_image, str(len(pullups)), (200,300), cv2.FONT_HERSHEY_PLAIN, 4, (255,255,255),2, cv2.LINE_AA)\n",
        "\n",
        "    if not Is_totally_contraction:\n",
        "      out.write(frame)\n",
        "    else:\n",
        "      out.write(output_image)\n",
        "  out.release()"
      ],
      "execution_count": null,
      "outputs": []
    },
    {
      "cell_type": "code",
      "metadata": {
        "colab": {
          "base_uri": "https://localhost:8080/"
        },
        "id": "p0A9J8-H3gBD",
        "outputId": "ba22630f-47f6-4e77-da6c-cab7369e7e2d"
      },
      "source": [
        "pullups"
      ],
      "execution_count": null,
      "outputs": [
        {
          "output_type": "execute_result",
          "data": {
            "text/plain": [
              "[[1, 1, 1, 1, 0], [1, 1, 1, 0, 0]]"
            ]
          },
          "metadata": {},
          "execution_count": 17
        }
      ]
    },
    {
      "cell_type": "code",
      "metadata": {
        "colab": {
          "base_uri": "https://localhost:8080/"
        },
        "id": "ebszu8g_-yVL",
        "outputId": "7e4a03eb-7ff1-4b09-9fb4-6e8f3ea9dab6"
      },
      "source": [
        "pullups"
      ],
      "execution_count": null,
      "outputs": [
        {
          "output_type": "execute_result",
          "data": {
            "text/plain": [
              "[[1, 1, 1, 1, 1], [1, 1, 1, 1, 1], [1, 1, 1, 1, 1]]"
            ]
          },
          "metadata": {},
          "execution_count": 89
        }
      ]
    },
    {
      "cell_type": "markdown",
      "metadata": {
        "id": "2aOhxmjLtF7l"
      },
      "source": [
        "##**Evaulate Pullups with segmentation**"
      ]
    },
    {
      "cell_type": "code",
      "metadata": {
        "id": "0G18OiNptFdo"
      },
      "source": [
        "def pullups_to_score(pullups):\n",
        "  each_score = []\n",
        "  for e in pullups:\n",
        "    Is_relaxation = e[0]\n",
        "    Is_contraction = e[1]\n",
        "    Is_shoulder_packing = e[2]\n",
        "    Is_elbow_stable = e[3]\n",
        "    Is_speed_good = e[4]\n",
        "    each_score.append(Is_relaxation*10+Is_contraction*20+Is_shoulder_packing*40+Is_elbow_stable*20+Is_speed_good*10)\n",
        "  return each_score"
      ],
      "execution_count": null,
      "outputs": []
    },
    {
      "cell_type": "code",
      "metadata": {
        "colab": {
          "base_uri": "https://localhost:8080/"
        },
        "id": "nG4HlhJK12oF",
        "outputId": "773bfa44-2fb8-4b76-80fb-b7f7662c11fb"
      },
      "source": [
        "# pullups score for each reptition\n",
        "pullups_to_score(pullups)"
      ],
      "execution_count": null,
      "outputs": [
        {
          "output_type": "execute_result",
          "data": {
            "text/plain": [
              "[90, 70]"
            ]
          },
          "metadata": {},
          "execution_count": 19
        }
      ]
    },
    {
      "cell_type": "code",
      "metadata": {
        "colab": {
          "base_uri": "https://localhost:8080/"
        },
        "id": "XMUJZ80T14FL",
        "outputId": "73b2fe54-f853-4a20-9aad-baec9dab4437"
      },
      "source": [
        "# total score\n",
        "sum(pullups_to_score(pullups))"
      ],
      "execution_count": null,
      "outputs": [
        {
          "output_type": "execute_result",
          "data": {
            "text/plain": [
              "160"
            ]
          },
          "metadata": {},
          "execution_count": 20
        }
      ]
    },
    {
      "cell_type": "code",
      "metadata": {
        "id": "1DYStfhh43yM"
      },
      "source": [
        ""
      ],
      "execution_count": null,
      "outputs": []
    }
  ]
}