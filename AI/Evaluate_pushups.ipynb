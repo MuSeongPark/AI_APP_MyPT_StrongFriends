{
  "nbformat": 4,
  "nbformat_minor": 2,
  "metadata": {
    "colab": {
      "name": "Evaluate_pushups",
      "provenance": [],
      "collapsed_sections": []
    },
    "kernelspec": {
      "name": "python3",
      "display_name": "Python 3"
    },
    "language_info": {
      "name": "python"
    }
  },
  "cells": [
    {
      "cell_type": "code",
      "execution_count": null,
      "source": [
        "!pip install mediapipe opencv-python"
      ],
      "outputs": [
        {
          "output_type": "stream",
          "name": "stdout",
          "text": [
            "Collecting mediapipe\n",
            "  Downloading mediapipe-0.8.7.3-cp37-cp37m-manylinux_2_17_x86_64.manylinux2014_x86_64.whl (30.4 MB)\n",
            "\u001b[K     |████████████████████████████████| 30.4 MB 79 kB/s \n",
            "\u001b[?25hRequirement already satisfied: opencv-python in /usr/local/lib/python3.7/dist-packages (4.1.2.30)\n",
            "Requirement already satisfied: opencv-contrib-python in /usr/local/lib/python3.7/dist-packages (from mediapipe) (4.1.2.30)\n",
            "Requirement already satisfied: wheel in /usr/local/lib/python3.7/dist-packages (from mediapipe) (0.37.0)\n",
            "Requirement already satisfied: six in /usr/local/lib/python3.7/dist-packages (from mediapipe) (1.15.0)\n",
            "Requirement already satisfied: attrs>=19.1.0 in /usr/local/lib/python3.7/dist-packages (from mediapipe) (21.2.0)\n",
            "Requirement already satisfied: numpy in /usr/local/lib/python3.7/dist-packages (from mediapipe) (1.19.5)\n",
            "Requirement already satisfied: matplotlib in /usr/local/lib/python3.7/dist-packages (from mediapipe) (3.2.2)\n",
            "Requirement already satisfied: absl-py in /usr/local/lib/python3.7/dist-packages (from mediapipe) (0.12.0)\n",
            "Requirement already satisfied: protobuf>=3.11.4 in /usr/local/lib/python3.7/dist-packages (from mediapipe) (3.17.3)\n",
            "Requirement already satisfied: cycler>=0.10 in /usr/local/lib/python3.7/dist-packages (from matplotlib->mediapipe) (0.10.0)\n",
            "Requirement already satisfied: kiwisolver>=1.0.1 in /usr/local/lib/python3.7/dist-packages (from matplotlib->mediapipe) (1.3.2)\n",
            "Requirement already satisfied: pyparsing!=2.0.4,!=2.1.2,!=2.1.6,>=2.0.1 in /usr/local/lib/python3.7/dist-packages (from matplotlib->mediapipe) (2.4.7)\n",
            "Requirement already satisfied: python-dateutil>=2.1 in /usr/local/lib/python3.7/dist-packages (from matplotlib->mediapipe) (2.8.2)\n",
            "Installing collected packages: mediapipe\n",
            "Successfully installed mediapipe-0.8.7.3\n"
          ]
        }
      ],
      "metadata": {
        "colab": {
          "base_uri": "https://localhost:8080/"
        },
        "id": "FI_CXpCWUsJB",
        "outputId": "1f03896f-033e-40a0-cb06-6017149e3c62"
      }
    },
    {
      "cell_type": "code",
      "execution_count": null,
      "source": [
        "import cv2\n",
        "import mediapipe as mp\n",
        "import numpy as np\n",
        "import pandas as pd\n",
        "\n",
        "mp_drawing = mp.solutions.drawing_utils\n",
        "mp_pose = mp.solutions.pose\n",
        "pose = mp_pose.Pose()"
      ],
      "outputs": [],
      "metadata": {
        "id": "m7aWGWaDez4D"
      }
    },
    {
      "cell_type": "code",
      "execution_count": null,
      "source": [
        "from google.colab import drive # 국방부 해커톤/input에 있는 영상 사본 만들고 사본을 옮겨서 이름 바꾸기 / 원본 안옮기게 주의!\n",
        "drive.mount('/content/gdrive')"
      ],
      "outputs": [
        {
          "output_type": "stream",
          "name": "stdout",
          "text": [
            "Mounted at /content/gdrive\n"
          ]
        }
      ],
      "metadata": {
        "colab": {
          "base_uri": "https://localhost:8080/"
        },
        "id": "60CnAn5bFVtt",
        "outputId": "f83152b5-e0c5-44fd-818f-bd0f1fe6b544"
      }
    },
    {
      "cell_type": "markdown",
      "source": [
        "# **Finding XYZ**"
      ],
      "metadata": {
        "id": "NLfh9K8cbL2t"
      }
    },
    {
      "cell_type": "code",
      "execution_count": null,
      "source": [
        "def find_xyz(ind_list, landmark):\n",
        "  a = landmark[ind_list[0]]\n",
        "  b = landmark[ind_list[1]]\n",
        "  c = landmark[ind_list[2]]\n",
        "\n",
        "  first = [a.x,a.y,a.z]\n",
        "  mid = [b.x,b.y,b.z]\n",
        "  end = [c.x,c.y,c.z]\n",
        "  return first, mid, end"
      ],
      "outputs": [],
      "metadata": {
        "id": "7PHHnbjtbD7Z"
      }
    },
    {
      "cell_type": "markdown",
      "source": [
        "# **Calculating Angle**"
      ],
      "metadata": {
        "id": "Vg5Ye9FLw8-Q"
      }
    },
    {
      "cell_type": "code",
      "execution_count": null,
      "source": [
        "def calculate_angle3D(a,b,c,direction):\n",
        "  \"\"\"\n",
        "  calculate_angle3D is divided by left and right side because this function uses external product\n",
        "  input : a,b,c -> landmarks with shape [x,y,z,visibility]\n",
        "          direction -> int -1 or 1\n",
        "                      -1 means Video(photo) for a person's left side and 1 means Video(photo) for a person's right side\n",
        "  output : angle between vector ba and bc with range 0~360\n",
        "  \"\"\"\n",
        "  # external product's z value\n",
        "  external_z = (b[0]-a[0])*(b[1]-c[1]) - (b[1]-a[1])*(b[0]-c[0])\n",
        "\n",
        "  a = np.array(a) #first\n",
        "  b = np.array(b) #mid\n",
        "  c = np.array(c) #end\n",
        "\n",
        "  ba = b-a\n",
        "  bc = b-c\n",
        "  dot_result = np.dot(ba, bc)\n",
        "\n",
        "\n",
        "  ba_size = np.linalg.norm(ba)\n",
        "  bc_size = np.linalg.norm(bc)\n",
        "  radi = np.arccos(dot_result / (ba_size*bc_size))\n",
        "  angle = np.abs(radi*180.0/np.pi)\n",
        "\n",
        "\n",
        "  if external_z * direction > 0:\n",
        "    angle = 360 - angle\n",
        "\n",
        "  return angle\n"
      ],
      "outputs": [],
      "metadata": {
        "id": "mpoVgziyP4EQ"
      }
    },
    {
      "cell_type": "markdown",
      "source": [
        "# **Checking Angle(xyz)**"
      ],
      "metadata": {
        "id": "1kGZFZtrQk2T"
      }
    },
    {
      "cell_type": "code",
      "execution_count": null,
      "source": [
        "counter = 0\n",
        "stage = None\n",
        "video_path = \"/content/wrong/6.mp4\"\n",
        "cap = cv2.VideoCapture(video_path)\n",
        "elbow_state = 'up'\n",
        "\n",
        "\n",
        "#우측 관절값\n",
        "joint_indx = {'check_right_elbow':[16,14,12],'check_right_hip':[12,24,26],'check_right_knee':[24,26,28]} \n",
        "\n",
        "\"\"\"\n",
        "temp_w6은 팔굽혀펴기 운동을 한번 할떄마다(내려갔다 올라올 때마다) 해당 관절 부분의 각도를 최신화함. 이전에 했던 팔굽혀펴기의 각도값들은 다 초기화함.\n",
        "      -> 앱 상에서 관절 각도값을 저장하는 데에 무리가 가지않게 list를 초기화시켜줌.\n",
        "\"\"\"\n",
        "temp_w6 = {'check_right_elbow':[],'check_right_hip':[],'check_right_knee':[]}\n",
        "pushups = []\n",
        "\n",
        "\"\"\"\n",
        "pushups는 list(list)형식이다. 안쪽 list는 length가 4이며 각각 Is_elbow_up, Is_elbow_down, hip_condition, knee_condition을 의미한다.\n",
        "Is_elbow_up -> int 0 or 1 -> 팔꿈치를 완전히 펴면 1, 완전히 펴지 않으면 0\n",
        "Is_elbow_down -> int 0 or 1 -> 팔꿈치를 완전히 굽히면 1, 완전히 굽히지 않으면 0\n",
        "hip_condition -> int 0 or 1 or 2 -> 골반이 정상이면 0, 너무 내려가면 1, 너무 올라가면 2\n",
        "knee_condition -> int 1 or 0 -> 무릎 각도가 정상범위면 1, 너무 내려가면 0 \n",
        "예를 들어, pushup[0]이 [1,0,1,1]이면 첫번째 푸쉬업 동작이 올라올 때 팔꿈치를 완전히 폈고, 내려갈때 완전히 팔을 굽히지는 않았으며, 골반은 과도하게 내려갔고, 무릎각도는 정상범위라는 의미이다.\n",
        "\"\"\"\n",
        "\n",
        "if cap.isOpened():\n",
        "    width = int(cap.get(cv2.CAP_PROP_FRAME_WIDTH))\n",
        "    height = int(cap.get(cv2.CAP_PROP_FRAME_HEIGHT))\n",
        "\n",
        "    res=(int(width), int(height))\n",
        "    fourcc = cv2.VideoWriter_fourcc(*'MP4V') #codec\n",
        "    out = cv2.VideoWriter('wtemp6.mp4', fourcc, 20.0, res)\n",
        "\n",
        "    frame = None\n",
        "    while True:\n",
        "      try:\n",
        "        ret, frame = cap.read()\n",
        "      except cv2.error:\n",
        "        continue\n",
        "      if not ret:\n",
        "        break\n",
        "\n",
        "      image = cv2.cvtColor(frame, cv2.COLOR_BGR2RGB)\n",
        "      results = pose.process(image)\n",
        "\n",
        "      if results.pose_landmarks:\n",
        "        mp_drawing.draw_landmarks(frame, results.pose_landmarks, mp_pose.POSE_CONNECTIONS)\n",
        "        for id, im in enumerate(results.pose_landmarks.landmark):\n",
        "          h, w, c = frame.shape\n",
        "          cx, cy = int(im.x*w), int(im.y*h)\n",
        "          cv2.circle(frame, (cx,cy), 5, (255, 0, 0), cv2.FILLED)\n",
        "        landmark = results.pose_landmarks.landmark\n",
        "        for key,val in joint_indx.items():\n",
        "          first,mid,end = find_xyz(val, landmark)\n",
        "          angle = calculate_angle3D(first,mid,end, 1) #각도 계산\n",
        "          mid = mid[0:2]\n",
        "          cv2.putText(frame, str(angle),tuple(np.multiply(mid, [2400,1080]).astype(int)),cv2.FONT_HERSHEY_SIMPLEX, 1.2, (255,0,0),5,cv2.LINE_AA)\n",
        "          temp_w6[key].append(angle)\n",
        " \n",
        "\n",
        "        elbow_angle = temp_w6['check_right_elbow'][-1]\n",
        "        if elbow_angle > 135 and elbow_state == 'down':\n",
        "            elbow_state = 'up'\n",
        "            pushups.append([])\n",
        "            # 팔꿈치를 핀 정도가 160도보다 큰 경우\n",
        "            if max(temp_w6['check_right_elbow']) > 160:\n",
        "              pushups[-1].append(1)\n",
        "            # 팔꿈치를 덜 핀 경우\n",
        "            else:\n",
        "              pushups[-1].append(0)\n",
        "            # 팔꿈치를 굽힌 정도가 90도보다 작은 경우\n",
        "\n",
        "            if min(temp_w6['check_right_elbow']) < 90:\n",
        "              pushups[-1].append(1)\n",
        "            # 팔꿈치를 덜 굽힌 경우\n",
        "            else:\n",
        "              pushups[-1].append(0)\n",
        "            # 팔꿈치 각도 데이터 초기화 (어플에서의 변수 저장 값이 많아지는 것을 방지하기 위해 팔굽 하나 할때마다 각도 축적해놓은거를 초기화함.)\n",
        "            temp_w6['check_right_elbow'] = []\n",
        "\n",
        "            # 팔꿈치 굽혔다 필 동안 골반이 160도보다 내려갔는지(골반이 너무 아래로 내려갔는지)\n",
        "            if min(temp_w6['check_right_hip']) < 160:\n",
        "              pushups[-1].append(1)\n",
        "            # 팔꿈치 굽혔다 필 동안 골반이 220도보다 올라갔는지(골반이 너무 위로 올라갔는지)\n",
        "            elif max(temp_w6['check_right_hip']) > 220:\n",
        "              pushups[-1].append(2)\n",
        "            # 팔굽하는 동안 골반이 정상 자세(160~220도 사이값)인 경우\n",
        "            else:\n",
        "              pushups[-1].append(0)\n",
        "            temp_w6['check_right_hip'] = []\n",
        "\n",
        "\n",
        "            if min(temp_w6['check_right_knee']) < 152:\n",
        "              pushups[-1].append(0)\n",
        "            else:\n",
        "              pushups[-1].append(1)\n",
        "            temp_w6['check_right_knee'] = []\n",
        "\n",
        "        if elbow_angle < 130 and elbow_state == 'up':\n",
        "            elbow_state = 'down'\n",
        "\n",
        "        cv2.putText(frame, str(len(pushups)), (200,300), cv2.FONT_HERSHEY_PLAIN, 4, (255,255,255),2, cv2.LINE_AA)\n",
        "\n",
        "      out.write(frame)\n",
        "    out.release()\n",
        "\n"
      ],
      "outputs": [],
      "metadata": {
        "id": "ZA6_mqf7Bsn-"
      }
    },
    {
      "cell_type": "code",
      "execution_count": null,
      "source": [
        "pushups"
      ],
      "outputs": [
        {
          "output_type": "execute_result",
          "data": {
            "text/plain": [
              "[[1, 0, 1, 0],\n",
              " [1, 1, 1, 1],\n",
              " [1, 1, 1, 1],\n",
              " [1, 0, 1, 1],\n",
              " [1, 0, 1, 0],\n",
              " [1, 0, 1, 0],\n",
              " [0, 0, 1, 1],\n",
              " [1, 1, 1, 1],\n",
              " [1, 1, 1, 1],\n",
              " [1, 1, 1, 1],\n",
              " [1, 1, 1, 1],\n",
              " [1, 1, 1, 1],\n",
              " [1, 1, 1, 1],\n",
              " [1, 1, 1, 1],\n",
              " [1, 1, 1, 1],\n",
              " [1, 1, 1, 1],\n",
              " [1, 1, 1, 1],\n",
              " [1, 1, 2, 1]]"
            ]
          },
          "metadata": {},
          "execution_count": 108
        }
      ],
      "metadata": {
        "colab": {
          "base_uri": "https://localhost:8080/"
        },
        "id": "YXKHoiPP62uM",
        "outputId": "329f3d1b-2d3a-43e9-b038-8c478c8d3290"
      }
    },
    {
      "cell_type": "markdown",
      "source": [
        "#**Evaulate Pushups**"
      ],
      "metadata": {
        "id": "XmMxw0RM99Ah"
      }
    },
    {
      "cell_type": "code",
      "execution_count": null,
      "source": [
        "def pushups_to_score(pushups):\n",
        "  each_score = []\n",
        "  for e in pushups:\n",
        "    Is_elbow_up = e[0]\n",
        "    # print(Is_elbow_up)\n",
        "    Is_elbow_down = e[1]\n",
        "    Is_hip_good = 0\n",
        "    if e[2] == 0:\n",
        "      Is_hip_good = 1\n",
        "    Is_knee_good = e[3]\n",
        "    each_score.append(Is_elbow_up*30+Is_elbow_down*30+Is_hip_good*30+Is_knee_good*10)\n",
        "  return each_score"
      ],
      "outputs": [],
      "metadata": {
        "id": "78BcXP6O93OW"
      }
    },
    {
      "cell_type": "code",
      "execution_count": null,
      "source": [
        "# pushups score for each reptition\n",
        "pushups_to_score(pushups)"
      ],
      "outputs": [
        {
          "output_type": "execute_result",
          "data": {
            "text/plain": [
              "[30, 70, 70, 40, 30, 30, 10, 70, 70, 70, 70, 70, 70, 70, 70, 70, 70, 70]"
            ]
          },
          "metadata": {},
          "execution_count": 110
        }
      ],
      "metadata": {
        "colab": {
          "base_uri": "https://localhost:8080/"
        },
        "id": "7l_tsHtQADDE",
        "outputId": "8d167c61-c92f-4219-a472-c80aa0cc8ae9"
      }
    },
    {
      "cell_type": "code",
      "execution_count": null,
      "source": [
        "#total_score\n",
        "sum(pushups_to_score(pushups))"
      ],
      "outputs": [
        {
          "output_type": "execute_result",
          "data": {
            "text/plain": [
              "1050"
            ]
          },
          "metadata": {},
          "execution_count": 111
        }
      ],
      "metadata": {
        "colab": {
          "base_uri": "https://localhost:8080/"
        },
        "id": "z4lt4iHoA0D5",
        "outputId": "6d3cdd00-9f74-40f8-af30-5d1a987a2ed1"
      }
    },
    {
      "cell_type": "code",
      "execution_count": null,
      "source": [
        "from google.colab import files\n",
        "files.download('wtemp6.mp4')\n"
      ],
      "outputs": [
        {
          "output_type": "display_data",
          "data": {
            "application/javascript": "\n    async function download(id, filename, size) {\n      if (!google.colab.kernel.accessAllowed) {\n        return;\n      }\n      const div = document.createElement('div');\n      const label = document.createElement('label');\n      label.textContent = `Downloading \"${filename}\": `;\n      div.appendChild(label);\n      const progress = document.createElement('progress');\n      progress.max = size;\n      div.appendChild(progress);\n      document.body.appendChild(div);\n\n      const buffers = [];\n      let downloaded = 0;\n\n      const channel = await google.colab.kernel.comms.open(id);\n      // Send a message to notify the kernel that we're ready.\n      channel.send({})\n\n      for await (const message of channel.messages) {\n        // Send a message to notify the kernel that we're ready.\n        channel.send({})\n        if (message.buffers) {\n          for (const buffer of message.buffers) {\n            buffers.push(buffer);\n            downloaded += buffer.byteLength;\n            progress.value = downloaded;\n          }\n        }\n      }\n      const blob = new Blob(buffers, {type: 'application/binary'});\n      const a = document.createElement('a');\n      a.href = window.URL.createObjectURL(blob);\n      a.download = filename;\n      div.appendChild(a);\n      a.click();\n      div.remove();\n    }\n  ",
            "text/plain": [
              "<IPython.core.display.Javascript object>"
            ]
          },
          "metadata": {}
        },
        {
          "output_type": "display_data",
          "data": {
            "application/javascript": "download(\"download_d24df9fa-b3d7-4629-a3cc-c84429e7ebd2\", \"wtemp6.mp4\", 72947117)",
            "text/plain": [
              "<IPython.core.display.Javascript object>"
            ]
          },
          "metadata": {}
        }
      ],
      "metadata": {
        "id": "mqfR8vnnFkFM",
        "colab": {
          "base_uri": "https://localhost:8080/",
          "height": 16
        },
        "outputId": "ff5ade91-24fc-4a2c-dc37-8ea67e92ea98"
      }
    },
    {
      "cell_type": "code",
      "execution_count": null,
      "source": [],
      "outputs": [],
      "metadata": {
        "id": "-yXCjfbvDmAH"
      }
    }
  ]
}