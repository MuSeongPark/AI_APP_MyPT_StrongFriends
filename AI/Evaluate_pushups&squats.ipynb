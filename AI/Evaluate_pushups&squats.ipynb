{
  "nbformat": 4,
  "nbformat_minor": 0,
  "metadata": {
    "colab": {
      "name": "Evaluate_pushups&squats",
      "provenance": [],
      "collapsed_sections": []
    },
    "kernelspec": {
      "name": "python3",
      "display_name": "Python 3"
    },
    "language_info": {
      "name": "python"
    }
  },
  "cells": [
    {
      "cell_type": "code",
      "metadata": {
        "colab": {
          "base_uri": "https://localhost:8080/"
        },
        "id": "FI_CXpCWUsJB",
        "outputId": "029e2d4a-aba4-496a-a386-e44632a6e936"
      },
      "source": [
        "!pip install mediapipe opencv-python"
      ],
      "execution_count": 1,
      "outputs": [
        {
          "output_type": "stream",
          "name": "stdout",
          "text": [
            "Collecting mediapipe\n",
            "  Downloading mediapipe-0.8.7.3-cp37-cp37m-manylinux_2_17_x86_64.manylinux2014_x86_64.whl (30.4 MB)\n",
            "\u001b[K     |████████████████████████████████| 30.4 MB 75 kB/s \n",
            "\u001b[?25hRequirement already satisfied: opencv-python in /usr/local/lib/python3.7/dist-packages (4.1.2.30)\n",
            "Requirement already satisfied: attrs>=19.1.0 in /usr/local/lib/python3.7/dist-packages (from mediapipe) (21.2.0)\n",
            "Requirement already satisfied: wheel in /usr/local/lib/python3.7/dist-packages (from mediapipe) (0.37.0)\n",
            "Requirement already satisfied: opencv-contrib-python in /usr/local/lib/python3.7/dist-packages (from mediapipe) (4.1.2.30)\n",
            "Requirement already satisfied: six in /usr/local/lib/python3.7/dist-packages (from mediapipe) (1.15.0)\n",
            "Requirement already satisfied: numpy in /usr/local/lib/python3.7/dist-packages (from mediapipe) (1.19.5)\n",
            "Requirement already satisfied: absl-py in /usr/local/lib/python3.7/dist-packages (from mediapipe) (0.12.0)\n",
            "Requirement already satisfied: matplotlib in /usr/local/lib/python3.7/dist-packages (from mediapipe) (3.2.2)\n",
            "Requirement already satisfied: protobuf>=3.11.4 in /usr/local/lib/python3.7/dist-packages (from mediapipe) (3.17.3)\n",
            "Requirement already satisfied: cycler>=0.10 in /usr/local/lib/python3.7/dist-packages (from matplotlib->mediapipe) (0.10.0)\n",
            "Requirement already satisfied: kiwisolver>=1.0.1 in /usr/local/lib/python3.7/dist-packages (from matplotlib->mediapipe) (1.3.2)\n",
            "Requirement already satisfied: pyparsing!=2.0.4,!=2.1.2,!=2.1.6,>=2.0.1 in /usr/local/lib/python3.7/dist-packages (from matplotlib->mediapipe) (2.4.7)\n",
            "Requirement already satisfied: python-dateutil>=2.1 in /usr/local/lib/python3.7/dist-packages (from matplotlib->mediapipe) (2.8.2)\n",
            "Installing collected packages: mediapipe\n",
            "Successfully installed mediapipe-0.8.7.3\n"
          ]
        }
      ]
    },
    {
      "cell_type": "code",
      "metadata": {
        "id": "m7aWGWaDez4D"
      },
      "source": [
        "import cv2\n",
        "import mediapipe as mp\n",
        "import numpy as np\n",
        "import pandas as pd\n",
        "import time\n",
        "\n",
        "mp_drawing = mp.solutions.drawing_utils\n",
        "mp_pose = mp.solutions.pose\n",
        "pose = mp_pose.Pose()"
      ],
      "execution_count": 17,
      "outputs": []
    },
    {
      "cell_type": "code",
      "metadata": {
        "colab": {
          "base_uri": "https://localhost:8080/"
        },
        "id": "60CnAn5bFVtt",
        "outputId": "9dde07f1-95a0-49b5-f422-7a1d0d7a513d"
      },
      "source": [
        "from google.colab import drive # 국방부 해커톤/input에 있는 영상 사본 만들고 사본을 옮겨서 이름 바꾸기 / 원본 안옮기게 주의!\n",
        "drive.mount('/content/gdrive')"
      ],
      "execution_count": 3,
      "outputs": [
        {
          "output_type": "stream",
          "name": "stdout",
          "text": [
            "Mounted at /content/gdrive\n"
          ]
        }
      ]
    },
    {
      "cell_type": "markdown",
      "metadata": {
        "id": "NLfh9K8cbL2t"
      },
      "source": [
        "# **Finding XYZ**"
      ]
    },
    {
      "cell_type": "code",
      "metadata": {
        "id": "7PHHnbjtbD7Z"
      },
      "source": [
        "def find_xyz(ind_list, landmark):\n",
        "  a = landmark[ind_list[0]]\n",
        "  b = landmark[ind_list[1]]\n",
        "  c = landmark[ind_list[2]]\n",
        "\n",
        "  first = [a.x,a.y,a.z]\n",
        "  mid = [b.x,b.y,b.z]\n",
        "  end = [c.x,c.y,c.z]\n",
        "  return first, mid, end"
      ],
      "execution_count": 4,
      "outputs": []
    },
    {
      "cell_type": "markdown",
      "metadata": {
        "id": "Vg5Ye9FLw8-Q"
      },
      "source": [
        "# **Calculating Angle**"
      ]
    },
    {
      "cell_type": "code",
      "metadata": {
        "id": "mpoVgziyP4EQ"
      },
      "source": [
        "def calculate_angle3D(a,b,c,direction):\n",
        "  \"\"\"\n",
        "  calculate_angle3D is divided by left and right side because this function uses external product\n",
        "  input : a,b,c -> landmarks with shape [x,y,z,visibility]\n",
        "          direction -> int -1 or 1\n",
        "                      -1 means Video(photo) for a person's left side and 1 means Video(photo) for a person's right side\n",
        "  output : angle between vector ba and bc with range 0~360\n",
        "  \"\"\"\n",
        "  # external product's z value\n",
        "  external_z = (b[0]-a[0])*(b[1]-c[1]) - (b[1]-a[1])*(b[0]-c[0])\n",
        "\n",
        "  a = np.array(a) #first\n",
        "  b = np.array(b) #mid\n",
        "  c = np.array(c) #end\n",
        "\n",
        "  ba = b-a\n",
        "  bc = b-c\n",
        "  dot_result = np.dot(ba, bc)\n",
        "\n",
        "\n",
        "  ba_size = np.linalg.norm(ba)\n",
        "  bc_size = np.linalg.norm(bc)\n",
        "  radi = np.arccos(dot_result / (ba_size*bc_size))\n",
        "  angle = np.abs(radi*180.0/np.pi)\n",
        "\n",
        "  # left side\n",
        "  if external_z * direction > 0:\n",
        "    angle = 360 - angle\n",
        "\n",
        "  return angle\n"
      ],
      "execution_count": 5,
      "outputs": []
    },
    {
      "cell_type": "markdown",
      "metadata": {
        "id": "1kGZFZtrQk2T"
      },
      "source": [
        "# **Checking Angle(xyz)**"
      ]
    },
    {
      "cell_type": "code",
      "metadata": {
        "id": "ZA6_mqf7Bsn-"
      },
      "source": [
        "video_path = \"/content/wrong/6.mp4\"\n",
        "cap = cv2.VideoCapture(video_path)\n",
        "elbow_state = 'up'\n",
        "\n",
        "# 팔굽혀펴기 1회 측정 시간\n",
        "start = 0\n",
        "end = 0\n",
        "\n",
        "#우측 관절값\n",
        "joint_indx = {'right_elbow':[16,14,12],'right_hip':[12,24,26],'right_knee':[24,26,28]} \n",
        "\n",
        "\"\"\"\n",
        "temp은 팔굽혀펴기 운동을 한번 할떄마다(내려갔다 올라올 때마다) 해당 관절 부분의 각도를 최신화함. 이전에 했던 팔굽혀펴기의 각도값들은 다 초기화함.\n",
        "      -> 앱 상에서 관절 각도값을 저장하는 데에 무리가 가지않게 list를 초기화시켜줌.\n",
        "\"\"\"\n",
        "temp = {'right_elbow':[],'right_hip':[],'right_knee':[]}\n",
        "pushups = []\n",
        "\n",
        "\"\"\"\n",
        "pushups는 list(list)형식이다. 안쪽 list는 length가 4이며 각각 Is_elbow_up, Is_elbow_down, hip_condition, knee_condition을 의미한다.\n",
        "Is_elbow_up -> int 0 or 1 -> 팔꿈치를 완전히 펴면 1, 완전히 펴지 않으면 0\n",
        "Is_elbow_down -> int 0 or 1 -> 팔꿈치를 완전히 굽히면 1, 완전히 굽히지 않으면 0\n",
        "hip_condition -> int 0 or 1 or 2 -> 골반이 정상이면 0, 너무 내려가면 1, 너무 올라가면 2\n",
        "knee_condition -> int 1 or 0 -> 무릎 각도가 정상범위면 1, 너무 내려가면 0\n",
        "Is_speed_good -> int 1 or 0 -> 팔굽혀펴기 속도가 적당하면(1회당 1초 이상) 1, 너무 빠르면(1회당 1초 미만) 0 \n",
        "예를 들어, pushup[0]이 [1,0,1,1,1]이면 첫번째 푸쉬업 동작이 올라올 때 팔꿈치를 완전히 폈고, 내려갈때 완전히 팔을 굽히지는 않았으며, 골반은 과도하게 내려갔고,\n",
        "무릎각도는 정상범위이며 속도가 너무 빠르지않다는 의미이다.\n",
        "\"\"\"\n",
        "\n",
        "if cap.isOpened():\n",
        "    width = int(cap.get(cv2.CAP_PROP_FRAME_WIDTH))\n",
        "    height = int(cap.get(cv2.CAP_PROP_FRAME_HEIGHT))\n",
        "\n",
        "    res=(int(width), int(height))\n",
        "    fourcc = cv2.VideoWriter_fourcc(*'MP4V') #codec\n",
        "    out = cv2.VideoWriter('wtemp6.mp4', fourcc, 20.0, res)\n",
        "\n",
        "    frame = None\n",
        "    while True:\n",
        "      try:\n",
        "        ret, frame = cap.read()\n",
        "      except cv2.error:\n",
        "        continue\n",
        "      if not ret:\n",
        "        break\n",
        "\n",
        "      image = cv2.cvtColor(frame, cv2.COLOR_BGR2RGB)\n",
        "      results = pose.process(image)\n",
        "\n",
        "      if results.pose_landmarks:\n",
        "        mp_drawing.draw_landmarks(frame, results.pose_landmarks, mp_pose.POSE_CONNECTIONS)\n",
        "        for id, im in enumerate(results.pose_landmarks.landmark):\n",
        "          h, w, c = frame.shape\n",
        "          cx, cy = int(im.x*w), int(im.y*h)\n",
        "          cv2.circle(frame, (cx,cy), 5, (255, 0, 0), cv2.FILLED)\n",
        "        landmark = results.pose_landmarks.landmark\n",
        "        for key,val in joint_indx.items():\n",
        "          first,mid,end = find_xyz(val, landmark)\n",
        "          angle = calculate_angle3D(first,mid,end, 1) #각도 계산\n",
        "          mid = mid[0:2]\n",
        "          cv2.putText(frame, str(angle),tuple(np.multiply(mid, [2400,1080]).astype(int)),cv2.FONT_HERSHEY_SIMPLEX, 1.2, (255,0,0),5,cv2.LINE_AA)\n",
        "          temp[key].append(angle)\n",
        "\n",
        "        elbow_angle = temp['right_elbow'][-1]\n",
        "        Is_elbow_up = (elbow_angle > 135)\n",
        "        hip_angle = temp['right_hip'][-1]\n",
        "        hip_condition = (hip_angle >150) and (hip_angle < 220)\n",
        "        knee_angle = temp['right_knee'][-1]\n",
        "        knee_condition = (knee_angle > 152) and (knee_angle < 200)\n",
        "        lower_body_condition = hip_condition and knee_condition\n",
        "\n",
        "        if Is_elbow_up and elbow_state == 'down' and lower_body_condition:\n",
        "\n",
        "          # down state부터 up state까지 시간이 측정됨. 다만 코드 실행시 시간측정이라 real time에서도 잘 작동하는지 봐야함. 연산에 의한 latency가 발생할 수 있기 때문\n",
        "          end = time.time()\n",
        "\n",
        "          elbow_state = 'up'\n",
        "          element = []\n",
        "\n",
        "          # 팔꿈치를 핀 정도가 160도보다 큰 경우\n",
        "          if max(temp['right_elbow']) > 160:\n",
        "            element.append(1)\n",
        "          # 팔꿈치를 덜 핀 경우\n",
        "          else:\n",
        "            element.append(0)\n",
        "\n",
        "          # 팔꿈치를 굽힌 정도가 90도보다 작은 경우\n",
        "          if min(temp['right_elbow']) < 90:\n",
        "            element.append(1)\n",
        "          # 팔꿈치를 덜 굽힌 경우\n",
        "          else:\n",
        "            element.append(0)\n",
        "          # 팔꿈치 각도 데이터 초기화 (어플에서의 변수 저장 값이 많아지는 것을 방지하기 위해 팔굽 하나 할때마다 각도 축적해놓은거를 초기화함.)\n",
        "          temp['right_elbow'] = []\n",
        "\n",
        "          # 팔꿈치 굽혔다 필 동안 골반이 160도보다 내려갔는지(골반이 너무 아래로 내려갔는지)\n",
        "          if min(temp['right_hip']) < 160:\n",
        "            element.append(1)\n",
        "          # 팔꿈치 굽혔다 필 동안 골반이 220도보다 올라갔는지(골반이 너무 위로 올라갔는지)\n",
        "          elif max(temp['right_hip']) > 220:\n",
        "            element.append(2)\n",
        "          # 팔굽하는 동안 골반이 정상 자세(160~220도 사이값)인 경우\n",
        "          else:\n",
        "            element.append(0)\n",
        "          temp['right_hip'] = []\n",
        "\n",
        "          # knee condition\n",
        "          if min(temp['right_knee']) < 152:\n",
        "            element.append(0)\n",
        "          else:\n",
        "            element.append(1)\n",
        "          temp['right_knee'] = []\n",
        "\n",
        "          #Is_speed_good\n",
        "          # down state부터 up state까지 시간차이가 1초가 되는지 판단함. 다만 코드 실행시 시간측정이라 real time에서도 잘 작동하는지 봐야함. 연산에 의한 latency가 발생할 수 있기 때문\n",
        "          if end - start < 1:\n",
        "            element.append(0)\n",
        "          else:\n",
        "            element.append(1)\n",
        "\n",
        "\n",
        "          \"\"\"\n",
        "          개수 카운팅 되는 부분입니다. 이 부분에 음성으로 하나, 둘, 셋, ... 이렇게 개수를 세어주면 좋을거 같습니다.\n",
        "          또한, element의 값을 보고 실시간으로 하는 피드백도 이 부분에 대입하는게 좋을거 같습니다.\n",
        "          element는 [Is_elbow_up, Is_elbow_down, hip_condition, knee_condition, Is_speed_good]입니다. 각각에 대한 설명은 위 주석에 있습니다.\n",
        "          \"\"\"\n",
        "          pushups.append(element)\n",
        "\n",
        "        if (not Is_elbow_up) and elbow_state == 'up' and lower_body_condition:\n",
        "          elbow_state = 'down'\n",
        "          # down state부터 up state까지 시간이 측정됨. 다만 코드 실행시 시간측정이라 real time에서도 잘 작동하는지 봐야함. 연산에 의한 latency가 발생할 수 있기 때문\n",
        "          start = time.time()\n",
        "\n",
        "        cv2.putText(frame, str(len(pushups)), (200,300), cv2.FONT_HERSHEY_PLAIN, 4, (255,255,255),2, cv2.LINE_AA)\n",
        "\n",
        "      out.write(frame)\n",
        "    out.release()\n",
        "\n"
      ],
      "execution_count": 30,
      "outputs": []
    },
    {
      "cell_type": "code",
      "metadata": {
        "colab": {
          "base_uri": "https://localhost:8080/"
        },
        "id": "YXKHoiPP62uM",
        "outputId": "e4c0cb50-cd5e-4e29-bc10-fe5141b79a4e"
      },
      "source": [
        "pushups"
      ],
      "execution_count": 31,
      "outputs": [
        {
          "output_type": "execute_result",
          "data": {
            "text/plain": [
              "[[1, 1, 1, 0, 1],\n",
              " [1, 1, 1, 1, 1],\n",
              " [1, 0, 1, 1, 1],\n",
              " [1, 0, 1, 0, 1],\n",
              " [1, 0, 1, 0, 1],\n",
              " [1, 1, 1, 1, 1],\n",
              " [1, 1, 1, 1, 1],\n",
              " [1, 1, 1, 1, 1],\n",
              " [1, 1, 1, 1, 1],\n",
              " [1, 1, 1, 1, 1],\n",
              " [1, 1, 1, 1, 1],\n",
              " [1, 1, 1, 1, 1],\n",
              " [1, 1, 1, 1, 1],\n",
              " [1, 1, 1, 1, 1],\n",
              " [1, 1, 1, 1, 1],\n",
              " [1, 1, 2, 1, 1]]"
            ]
          },
          "metadata": {},
          "execution_count": 31
        }
      ]
    },
    {
      "cell_type": "code",
      "metadata": {
        "colab": {
          "base_uri": "https://localhost:8080/"
        },
        "id": "Xl1BUfkp4KwW",
        "outputId": "bb6c5781-39a8-4973-eeb9-24bab9ab93da"
      },
      "source": [
        "len(pushups)"
      ],
      "execution_count": 32,
      "outputs": [
        {
          "output_type": "execute_result",
          "data": {
            "text/plain": [
              "16"
            ]
          },
          "metadata": {},
          "execution_count": 32
        }
      ]
    },
    {
      "cell_type": "markdown",
      "metadata": {
        "id": "XmMxw0RM99Ah"
      },
      "source": [
        "#**Evaulate Pushups**"
      ]
    },
    {
      "cell_type": "code",
      "metadata": {
        "id": "78BcXP6O93OW"
      },
      "source": [
        "def pushups_to_score(pushups):\n",
        "  each_score = []\n",
        "  for e in pushups:\n",
        "    Is_elbow_up = e[0]\n",
        "    Is_elbow_down = e[1]\n",
        "    Is_hip_good = 0\n",
        "    if e[2] == 0:\n",
        "      Is_hip_good = 1\n",
        "    Is_knee_good = e[3]\n",
        "    Is_speed_good = e[4]\n",
        "    each_score.append(Is_elbow_up*25+Is_elbow_down*30+Is_hip_good*30+Is_knee_good*8+Is_speed_good*7)\n",
        "  return each_score"
      ],
      "execution_count": 33,
      "outputs": []
    },
    {
      "cell_type": "code",
      "metadata": {
        "colab": {
          "base_uri": "https://localhost:8080/"
        },
        "id": "7l_tsHtQADDE",
        "outputId": "8f90cc15-70a1-44cc-e794-caa8b5359fa8"
      },
      "source": [
        "# pushups score for each reptition\n",
        "pushups_to_score(pushups)"
      ],
      "execution_count": 34,
      "outputs": [
        {
          "output_type": "execute_result",
          "data": {
            "text/plain": [
              "[62, 70, 40, 32, 32, 70, 70, 70, 70, 70, 70, 70, 70, 70, 70, 70]"
            ]
          },
          "metadata": {},
          "execution_count": 34
        }
      ]
    },
    {
      "cell_type": "code",
      "metadata": {
        "colab": {
          "base_uri": "https://localhost:8080/"
        },
        "id": "z4lt4iHoA0D5",
        "outputId": "063eaab6-3d60-43ca-c96e-bdf0e1be778d"
      },
      "source": [
        "#total_score\n",
        "sum(pushups_to_score(pushups))"
      ],
      "execution_count": 35,
      "outputs": [
        {
          "output_type": "execute_result",
          "data": {
            "text/plain": [
              "1006"
            ]
          },
          "metadata": {},
          "execution_count": 35
        }
      ]
    },
    {
      "cell_type": "code",
      "metadata": {
        "id": "mqfR8vnnFkFM",
        "colab": {
          "base_uri": "https://localhost:8080/",
          "height": 16
        },
        "outputId": "ff5ade91-24fc-4a2c-dc37-8ea67e92ea98"
      },
      "source": [
        "from google.colab import files\n",
        "files.download('wtemp6.mp4')\n"
      ],
      "execution_count": null,
      "outputs": [
        {
          "output_type": "display_data",
          "data": {
            "application/javascript": [
              "\n",
              "    async function download(id, filename, size) {\n",
              "      if (!google.colab.kernel.accessAllowed) {\n",
              "        return;\n",
              "      }\n",
              "      const div = document.createElement('div');\n",
              "      const label = document.createElement('label');\n",
              "      label.textContent = `Downloading \"${filename}\": `;\n",
              "      div.appendChild(label);\n",
              "      const progress = document.createElement('progress');\n",
              "      progress.max = size;\n",
              "      div.appendChild(progress);\n",
              "      document.body.appendChild(div);\n",
              "\n",
              "      const buffers = [];\n",
              "      let downloaded = 0;\n",
              "\n",
              "      const channel = await google.colab.kernel.comms.open(id);\n",
              "      // Send a message to notify the kernel that we're ready.\n",
              "      channel.send({})\n",
              "\n",
              "      for await (const message of channel.messages) {\n",
              "        // Send a message to notify the kernel that we're ready.\n",
              "        channel.send({})\n",
              "        if (message.buffers) {\n",
              "          for (const buffer of message.buffers) {\n",
              "            buffers.push(buffer);\n",
              "            downloaded += buffer.byteLength;\n",
              "            progress.value = downloaded;\n",
              "          }\n",
              "        }\n",
              "      }\n",
              "      const blob = new Blob(buffers, {type: 'application/binary'});\n",
              "      const a = document.createElement('a');\n",
              "      a.href = window.URL.createObjectURL(blob);\n",
              "      a.download = filename;\n",
              "      div.appendChild(a);\n",
              "      a.click();\n",
              "      div.remove();\n",
              "    }\n",
              "  "
            ],
            "text/plain": [
              "<IPython.core.display.Javascript object>"
            ]
          },
          "metadata": {}
        },
        {
          "output_type": "display_data",
          "data": {
            "application/javascript": [
              "download(\"download_d24df9fa-b3d7-4629-a3cc-c84429e7ebd2\", \"wtemp6.mp4\", 72947117)"
            ],
            "text/plain": [
              "<IPython.core.display.Javascript object>"
            ]
          },
          "metadata": {}
        }
      ]
    },
    {
      "cell_type": "markdown",
      "metadata": {
        "id": "vRyTnOuOqRMp"
      },
      "source": [
        "#**Checking Conditions for Squat**"
      ]
    },
    {
      "cell_type": "code",
      "metadata": {
        "id": "h2v1yrgT7Sh6"
      },
      "source": [
        "def get_distance(lm_from, lm_to):\n",
        "  x2 = (lm_from.x - lm_to.x)**2\n",
        "  y2 = (lm_from.y-lm_to.y)**2\n",
        "  return (x2+y2)**0.5"
      ],
      "execution_count": 36,
      "outputs": []
    },
    {
      "cell_type": "code",
      "metadata": {
        "id": "-yXCjfbvDmAH"
      },
      "source": [
        "video_path = \"/content/squat/4.mp4\"\n",
        "cap = cv2.VideoCapture(video_path)\n",
        "squat_state = 'up'\n",
        "Is_knee_out = False\n",
        "\n",
        "# 스쿼트 1회 측정 시간\n",
        "start = 0\n",
        "end = 0\n",
        "\n",
        "\n",
        "\n",
        "#우측 관절값\n",
        "joint_indx = {'right_hip':[12,24,26],'right_knee':[24,26,28]} \n",
        "\n",
        "\"\"\"\n",
        "temp_squat은 스쿼트 운동을 한번 할떄마다(내려갔다 올라올 때마다) 해당 관절 부분의 각도를 최신화함. 이전에 했던 스쿼트의 각도값들은 다 초기화함.\n",
        "      -> 앱 상에서 관절 각도값을 저장하는 데에 무리가 가지않게 list를 초기화시켜줌.\n",
        "\"\"\"\n",
        "temp_squat = {'right_hip':[],'right_knee':[], 'average_hip_knee' : []} \n",
        "squats = []\n",
        "\n",
        "\"\"\"\n",
        "squats는 list(list)형식이다. 안쪽 list는 length가 4이며 각각 Is_relaxation, Is_contraction, Hip_knee_relation, Is_knee_in을 의미한다.\n",
        "Is_relaxation -> int 0 or 1 -> hip과 무릎을 완전히 펴면 1, 완전히 펴지 않으면 0\n",
        "Is_contraction -> int 0 or 1 -> hip과 무릎을 완전히 굽히면 1, 완전히 굽히지 않으면 0\n",
        "Hip_knee_relation -> int 0 or 1 or 2 -> 스쿼트 시 엉덩이가 내려가면서 무릎을 굽히면(운동 시 엉덩이의 값과 무릎의 각도의 평균값이 180도와 비슷하면) 0, 무릎을 굽히지 않고 엉덩이를 뒤로 빼면 1,\n",
        "                                        엉덩이를 뒤로 빼지 않고 무릎만 굽히면 2\n",
        "Is_knee_in -> int 1 or 0 -> 무릎이 발끝(엄지발가락)을 넘지 않으면1, 넘어가면 0\n",
        "Is_speed_good -> int 1 or 0 -> 스쿼트 속도가 적당하면(1회당 1초 이상) 1, 너무 빠르면(1회당 1초 미만) 0 \n",
        "예를 들어, squats[0]이 [1,0,2,1,1]이면 첫번째 스쿼트 동작이 올라올 때 완전히 이완을 했고, 내려갈때 완전히 수축하진 않았으며(엉덩이를 더 내려야함),\n",
        "엉덩이를 빼기보단 무릎만 굽혔고, 무릎이 발끝을 넘어가지 않았으며, 속도가 적당하다는 의미이다.\n",
        "\"\"\"\n",
        "\n",
        "if cap.isOpened():\n",
        "    width = int(cap.get(cv2.CAP_PROP_FRAME_WIDTH))\n",
        "    height = int(cap.get(cv2.CAP_PROP_FRAME_HEIGHT))\n",
        "\n",
        "    res=(int(width), int(height))\n",
        "    fourcc = cv2.VideoWriter_fourcc(*'MP4V') #codec\n",
        "    out = cv2.VideoWriter('4out.mp4', fourcc, 20.0, res)\n",
        "\n",
        "    frame = None\n",
        "    while True:\n",
        "      try:\n",
        "        ret, frame = cap.read()\n",
        "      except cv2.error:\n",
        "        continue\n",
        "      if not ret:\n",
        "        break\n",
        "\n",
        "      image = cv2.cvtColor(frame, cv2.COLOR_BGR2RGB)\n",
        "      results = pose.process(image)\n",
        "\n",
        "      if results.pose_landmarks:\n",
        "        mp_drawing.draw_landmarks(frame, results.pose_landmarks, mp_pose.POSE_CONNECTIONS)\n",
        "        for id, im in enumerate(results.pose_landmarks.landmark):\n",
        "          h, w, c = frame.shape\n",
        "          cx, cy = int(im.x*w), int(im.y*h)\n",
        "          cv2.circle(frame, (cx,cy), 5, (255, 0, 0), cv2.FILLED)\n",
        "        landmark = results.pose_landmarks.landmark\n",
        "        for key,val in joint_indx.items():\n",
        "          first,mid,end = find_xyz(val, landmark)\n",
        "          angle = calculate_angle3D(first,mid,end, 1) #각도 계산\n",
        "          mid = mid[0:2]\n",
        "          cv2.putText(frame, str(angle),tuple(np.multiply(mid, [2400,1080]).astype(int)),cv2.FONT_HERSHEY_SIMPLEX, 1.2, (255,0,0),5,cv2.LINE_AA)\n",
        "          temp_squat[key].append(angle)\n",
        "        knee_x = landmark[26].x # knee\n",
        "        toe_x = landmark[32].x # toe\n",
        "\n",
        "        # foot의 길이 측정\n",
        "        foot_length = get_distance(landmark[32], landmark[30])\n",
        "        # 무릎이 발끝보다 조금 나간거는 허용해줌(스쿼트 특성상 정확히 무릎이 발끝보다 덜 나가지 않음. 또한 오차값도 고려해서 발길이의 19.5%는 threshold값으로 설정함)\n",
        "        if toe_x + foot_length*0.195 < knee_x:\n",
        "           Is_knee_out = True\n",
        "\n",
        "        hip_angle = temp_squat['right_hip'][-1]\n",
        "        knee_angle = temp_squat['right_knee'][-1]\n",
        "        temp_squat['average_hip_knee'].append((hip_angle + knee_angle) / 2)\n",
        "\n",
        "        Is_hip_up = hip_angle < 235\n",
        "        Is_knee_up = knee_angle > 130\n",
        "        \n",
        "        if Is_hip_up and Is_knee_up and squat_state == 'down':\n",
        "          # down state부터 up state까지 시간이 측정됨. 다만 코드 실행시 시간측정이라 real time에서도 잘 작동하는지 봐야함. 연산에 의한 latency가 발생할 수 있기 때문\n",
        "          end = time.time()\n",
        "\n",
        "          squat_state = 'up'\n",
        "          element = []\n",
        "          # Is_relaxation\n",
        "          # 엉덩이를 핀 정도가 195도보다 작은 경우(완전히 이완)\n",
        "          if min(temp_squat['right_hip']) < 195:\n",
        "            element.append(1)\n",
        "          # 엉덩이를 덜 핀 경우\n",
        "          else:\n",
        "            element.append(0)\n",
        "\n",
        "          # Is_contraction\n",
        "          # 엉덩이를 굽힌 정도가 270도보다 큰 경우(완전히 수축)\n",
        "          if max(temp_squat['right_hip']) > 270:\n",
        "            element.append(1)\n",
        "          # 엉덩이를 덜 굽힌 경우\n",
        "          else:\n",
        "            element.append(0)\n",
        "\n",
        "          # 엉덩이 각도 데이터 초기화 (어플에서의 변수 저장 값이 많아지는 것을 방지하기 위해 스쿼트 하나 할때마다 각도 축적해놓은거를 초기화함.)\n",
        "          temp_squat['right_hip'] = []\n",
        "          temp_squat['right_knee'] = []\n",
        "\n",
        "\n",
        "          # Hip_knee_relation\n",
        "          # 스쿼트 동작동안 엉덩이와 무릎이 균형있게 내려가지 않고 엉덩이가 우선적으로 내려갔는지\n",
        "          if max(temp_squat['average_hip_knee']) > 193:\n",
        "            element.append(1)\n",
        "          # 스쿼트 동작동안 엉덩이와 무릎이 균형있게 내려가지 않고 무릎이 우선적으로 내려갔는지\n",
        "          elif min(temp_squat['average_hip_knee']) < 176:\n",
        "            element.append(2)\n",
        "          # 스쿼트 동작동안 엉덩이와 무릎이 균형있게 내려간 경우 (둘의 각도 평균값이 176~193의 경우)\n",
        "          else:\n",
        "            element.append(0)\n",
        "          temp_squat['average_hip_knee'] = []\n",
        "\n",
        "          # Is_knee_in\n",
        "          # 무릎이 발끝보다 안쪽에 있는지 유무\n",
        "          if Is_knee_out:\n",
        "            element.append(0)\n",
        "          else:\n",
        "            element.append(1)\n",
        "            \n",
        "            #Is_speed_good\n",
        "            # down state부터 up state까지 시간차이가 1초가 되는지 판단함. 다만 코드 실행시 시간측정이라 real time에서도 잘 작동하는지 봐야함. 연산에 의한 latency가 발생할 수 있기 때문\n",
        "          if end - start < 1:\n",
        "            element.append(0)\n",
        "          else:\n",
        "            element.append(1)\n",
        "\n",
        "          \"\"\"\n",
        "          개수 카운팅 되는 부분입니다. 이 부분에 음성으로 하나, 둘, 셋, ... 이렇게 개수를 세어주면 좋을거 같습니다.\n",
        "          또한, element의 값을 보고 실시간으로 하는 피드백도 이 부분에 대입하는게 좋을거 같습니다.\n",
        "          element는 [Is_relaxation, Is_contraction, Hip_knee_relation, Is_knee_in, Is_speed_good]입니다. 각각에 대한 설명은 위 주석에 있습니다.\n",
        "          \"\"\"\n",
        "          squats.append(element)\n",
        "          Is_knee_out = False\n",
        "\n",
        "        if (not Is_hip_up) and (not Is_knee_up) and squat_state == 'up':\n",
        "          squat_state = 'down'\n",
        "          # down state부터 up state까지 시간이 측정됨. 다만 코드 실행시 시간측정이라 real time에서도 잘 작동하는지 봐야함. 연산에 의한 latency가 발생할 수 있기 때문\n",
        "          start = time.time()\n",
        "\n",
        "        cv2.putText(frame, str(len(squats)), (200,300), cv2.FONT_HERSHEY_PLAIN, 4, (255,255,255),2, cv2.LINE_AA)\n",
        "\n",
        "      out.write(frame)\n",
        "    out.release()\n",
        "\n"
      ],
      "execution_count": 48,
      "outputs": []
    },
    {
      "cell_type": "code",
      "metadata": {
        "colab": {
          "base_uri": "https://localhost:8080/"
        },
        "id": "1hJidB19Ar-X",
        "outputId": "428cec92-3327-4888-9228-43240e8f4d2f"
      },
      "source": [
        "squats"
      ],
      "execution_count": 49,
      "outputs": [
        {
          "output_type": "execute_result",
          "data": {
            "text/plain": [
              "[[1, 1, 0, 1, 1], [1, 0, 0, 1, 1], [1, 1, 0, 1, 1], [1, 1, 2, 1, 1]]"
            ]
          },
          "metadata": {},
          "execution_count": 49
        }
      ]
    },
    {
      "cell_type": "markdown",
      "metadata": {
        "id": "ezSChYsQB7G4"
      },
      "source": [
        "#**Evaulate Squats**"
      ]
    },
    {
      "cell_type": "code",
      "metadata": {
        "id": "g9X9O6FBBPoB"
      },
      "source": [
        "def squats_to_score(squats):\n",
        "  each_score = []\n",
        "  for e in squats:\n",
        "    Is_relaxation = e[0]\n",
        "    Is_contraction = e[1]\n",
        "    Is_hip_knee_good = 0\n",
        "    if e[2] == 0:\n",
        "      Is_hip_knee_good = 1\n",
        "    Is_knee_in = e[3]\n",
        "    Is_speed_good = e[4]\n",
        "    each_score.append(Is_relaxation*10+Is_contraction*20+Is_hip_knee_good*50+Is_knee_in*13+Is_speed_good*7)\n",
        "  return each_score"
      ],
      "execution_count": 45,
      "outputs": []
    },
    {
      "cell_type": "code",
      "metadata": {
        "colab": {
          "base_uri": "https://localhost:8080/"
        },
        "id": "0fDWqccfDmiJ",
        "outputId": "689ce21d-1eae-494c-e6b1-c1a14f57b48e"
      },
      "source": [
        "# squats score for each reptition\n",
        "squats_to_score(squats)"
      ],
      "execution_count": 46,
      "outputs": [
        {
          "output_type": "execute_result",
          "data": {
            "text/plain": [
              "[100, 80, 100, 50]"
            ]
          },
          "metadata": {},
          "execution_count": 46
        }
      ]
    },
    {
      "cell_type": "code",
      "metadata": {
        "colab": {
          "base_uri": "https://localhost:8080/"
        },
        "id": "uWrzhIDzDsnK",
        "outputId": "e5da7247-8664-400d-f0b6-20877b5932a6"
      },
      "source": [
        "sum(squats_to_score(squats))"
      ],
      "execution_count": 47,
      "outputs": [
        {
          "output_type": "execute_result",
          "data": {
            "text/plain": [
              "330"
            ]
          },
          "metadata": {},
          "execution_count": 47
        }
      ]
    },
    {
      "cell_type": "code",
      "metadata": {
        "id": "MkGHlydND_lh"
      },
      "source": [
        "from google.colab import files\n",
        "files.download('4out.mp4')\n"
      ],
      "execution_count": null,
      "outputs": []
    }
  ]
}