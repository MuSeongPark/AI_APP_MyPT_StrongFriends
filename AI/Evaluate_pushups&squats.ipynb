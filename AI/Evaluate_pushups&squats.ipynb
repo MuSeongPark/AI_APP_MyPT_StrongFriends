{
  "nbformat": 4,
  "nbformat_minor": 0,
  "metadata": {
    "colab": {
      "name": "Evaluate_pushups&squats",
      "provenance": [],
      "collapsed_sections": []
    },
    "kernelspec": {
      "name": "python3",
      "display_name": "Python 3"
    },
    "language_info": {
      "name": "python"
    }
  },
  "cells": [
    {
      "cell_type": "code",
      "metadata": {
        "colab": {
          "base_uri": "https://localhost:8080/"
        },
        "id": "FI_CXpCWUsJB",
        "outputId": "f252784b-18a9-4670-f3d3-9b95e55034e6"
      },
      "source": [
        "!pip install mediapipe opencv-python"
      ],
      "execution_count": null,
      "outputs": [
        {
          "output_type": "stream",
          "name": "stdout",
          "text": [
            "Collecting mediapipe\n",
            "  Downloading mediapipe-0.8.7.3-cp37-cp37m-manylinux_2_17_x86_64.manylinux2014_x86_64.whl (30.4 MB)\n",
            "\u001b[K     |████████████████████████████████| 30.4 MB 69 kB/s \n",
            "\u001b[?25hRequirement already satisfied: opencv-python in /usr/local/lib/python3.7/dist-packages (4.1.2.30)\n",
            "Requirement already satisfied: numpy in /usr/local/lib/python3.7/dist-packages (from mediapipe) (1.19.5)\n",
            "Requirement already satisfied: opencv-contrib-python in /usr/local/lib/python3.7/dist-packages (from mediapipe) (4.1.2.30)\n",
            "Requirement already satisfied: wheel in /usr/local/lib/python3.7/dist-packages (from mediapipe) (0.37.0)\n",
            "Requirement already satisfied: six in /usr/local/lib/python3.7/dist-packages (from mediapipe) (1.15.0)\n",
            "Requirement already satisfied: attrs>=19.1.0 in /usr/local/lib/python3.7/dist-packages (from mediapipe) (21.2.0)\n",
            "Requirement already satisfied: absl-py in /usr/local/lib/python3.7/dist-packages (from mediapipe) (0.12.0)\n",
            "Requirement already satisfied: protobuf>=3.11.4 in /usr/local/lib/python3.7/dist-packages (from mediapipe) (3.17.3)\n",
            "Requirement already satisfied: matplotlib in /usr/local/lib/python3.7/dist-packages (from mediapipe) (3.2.2)\n",
            "Requirement already satisfied: pyparsing!=2.0.4,!=2.1.2,!=2.1.6,>=2.0.1 in /usr/local/lib/python3.7/dist-packages (from matplotlib->mediapipe) (2.4.7)\n",
            "Requirement already satisfied: python-dateutil>=2.1 in /usr/local/lib/python3.7/dist-packages (from matplotlib->mediapipe) (2.8.2)\n",
            "Requirement already satisfied: kiwisolver>=1.0.1 in /usr/local/lib/python3.7/dist-packages (from matplotlib->mediapipe) (1.3.2)\n",
            "Requirement already satisfied: cycler>=0.10 in /usr/local/lib/python3.7/dist-packages (from matplotlib->mediapipe) (0.10.0)\n",
            "Installing collected packages: mediapipe\n",
            "Successfully installed mediapipe-0.8.7.3\n"
          ]
        }
      ]
    },
    {
      "cell_type": "code",
      "metadata": {
        "id": "m7aWGWaDez4D"
      },
      "source": [
        "import cv2\n",
        "import mediapipe as mp\n",
        "import numpy as np\n",
        "import pandas as pd\n",
        "\n",
        "mp_drawing = mp.solutions.drawing_utils\n",
        "mp_pose = mp.solutions.pose\n",
        "pose = mp_pose.Pose()"
      ],
      "execution_count": null,
      "outputs": []
    },
    {
      "cell_type": "code",
      "metadata": {
        "colab": {
          "base_uri": "https://localhost:8080/"
        },
        "id": "60CnAn5bFVtt",
        "outputId": "e83c806d-0d85-4593-a252-44f5664a29ce"
      },
      "source": [
        "from google.colab import drive # 국방부 해커톤/input에 있는 영상 사본 만들고 사본을 옮겨서 이름 바꾸기 / 원본 안옮기게 주의!\n",
        "drive.mount('/content/gdrive')"
      ],
      "execution_count": null,
      "outputs": [
        {
          "output_type": "stream",
          "name": "stdout",
          "text": [
            "Mounted at /content/gdrive\n"
          ]
        }
      ]
    },
    {
      "cell_type": "markdown",
      "metadata": {
        "id": "NLfh9K8cbL2t"
      },
      "source": [
        "# **Finding XYZ**"
      ]
    },
    {
      "cell_type": "code",
      "metadata": {
        "id": "7PHHnbjtbD7Z"
      },
      "source": [
        "def find_xyz(ind_list, landmark):\n",
        "  a = landmark[ind_list[0]]\n",
        "  b = landmark[ind_list[1]]\n",
        "  c = landmark[ind_list[2]]\n",
        "\n",
        "  first = [a.x,a.y,a.z]\n",
        "  mid = [b.x,b.y,b.z]\n",
        "  end = [c.x,c.y,c.z]\n",
        "  return first, mid, end"
      ],
      "execution_count": null,
      "outputs": []
    },
    {
      "cell_type": "markdown",
      "metadata": {
        "id": "Vg5Ye9FLw8-Q"
      },
      "source": [
        "# **Calculating Angle**"
      ]
    },
    {
      "cell_type": "code",
      "metadata": {
        "id": "mpoVgziyP4EQ"
      },
      "source": [
        "def calculate_angle3D(a,b,c,direction):\n",
        "  \"\"\"\n",
        "  calculate_angle3D is divided by left and right side because this function uses external product\n",
        "  input : a,b,c -> landmarks with shape [x,y,z,visibility]\n",
        "          direction -> int -1 or 1\n",
        "                      -1 means Video(photo) for a person's left side and 1 means Video(photo) for a person's right side\n",
        "  output : angle between vector ba and bc with range 0~360\n",
        "  \"\"\"\n",
        "  # external product's z value\n",
        "  external_z = (b[0]-a[0])*(b[1]-c[1]) - (b[1]-a[1])*(b[0]-c[0])\n",
        "\n",
        "  a = np.array(a) #first\n",
        "  b = np.array(b) #mid\n",
        "  c = np.array(c) #end\n",
        "\n",
        "  ba = b-a\n",
        "  bc = b-c\n",
        "  dot_result = np.dot(ba, bc)\n",
        "\n",
        "\n",
        "  ba_size = np.linalg.norm(ba)\n",
        "  bc_size = np.linalg.norm(bc)\n",
        "  radi = np.arccos(dot_result / (ba_size*bc_size))\n",
        "  angle = np.abs(radi*180.0/np.pi)\n",
        "\n",
        "  # left side\n",
        "  if external_z * direction > 0:\n",
        "    angle = 360 - angle\n",
        "\n",
        "  return angle\n"
      ],
      "execution_count": null,
      "outputs": []
    },
    {
      "cell_type": "markdown",
      "metadata": {
        "id": "1kGZFZtrQk2T"
      },
      "source": [
        "# **Checking Angle(xyz)**"
      ]
    },
    {
      "cell_type": "code",
      "metadata": {
        "id": "ZA6_mqf7Bsn-"
      },
      "source": [
        "video_path = \"/content/wrong/6.mp4\"\n",
        "cap = cv2.VideoCapture(video_path)\n",
        "elbow_state = 'up'\n",
        "\n",
        "\n",
        "#우측 관절값\n",
        "joint_indx = {'check_right_elbow':[16,14,12],'check_right_hip':[12,24,26],'check_right_knee':[24,26,28]} \n",
        "\n",
        "\"\"\"\n",
        "temp_w6은 팔굽혀펴기 운동을 한번 할떄마다(내려갔다 올라올 때마다) 해당 관절 부분의 각도를 최신화함. 이전에 했던 팔굽혀펴기의 각도값들은 다 초기화함.\n",
        "      -> 앱 상에서 관절 각도값을 저장하는 데에 무리가 가지않게 list를 초기화시켜줌.\n",
        "\"\"\"\n",
        "temp_w6 = {'check_right_elbow':[],'check_right_hip':[],'check_right_knee':[]}\n",
        "pushups = []\n",
        "\n",
        "\"\"\"\n",
        "pushups는 list(list)형식이다. 안쪽 list는 length가 4이며 각각 Is_elbow_up, Is_elbow_down, hip_condition, knee_condition을 의미한다.\n",
        "Is_elbow_up -> int 0 or 1 -> 팔꿈치를 완전히 펴면 1, 완전히 펴지 않으면 0\n",
        "Is_elbow_down -> int 0 or 1 -> 팔꿈치를 완전히 굽히면 1, 완전히 굽히지 않으면 0\n",
        "hip_condition -> int 0 or 1 or 2 -> 골반이 정상이면 0, 너무 내려가면 1, 너무 올라가면 2\n",
        "knee_condition -> int 1 or 0 -> 무릎 각도가 정상범위면 1, 너무 내려가면 0 \n",
        "예를 들어, pushup[0]이 [1,0,1,1]이면 첫번째 푸쉬업 동작이 올라올 때 팔꿈치를 완전히 폈고, 내려갈때 완전히 팔을 굽히지는 않았으며, 골반은 과도하게 내려갔고, 무릎각도는 정상범위라는 의미이다.\n",
        "\"\"\"\n",
        "\n",
        "if cap.isOpened():\n",
        "    width = int(cap.get(cv2.CAP_PROP_FRAME_WIDTH))\n",
        "    height = int(cap.get(cv2.CAP_PROP_FRAME_HEIGHT))\n",
        "\n",
        "    res=(int(width), int(height))\n",
        "    fourcc = cv2.VideoWriter_fourcc(*'MP4V') #codec\n",
        "    out = cv2.VideoWriter('wtemp6.mp4', fourcc, 20.0, res)\n",
        "\n",
        "    frame = None\n",
        "    while True:\n",
        "      try:\n",
        "        ret, frame = cap.read()\n",
        "      except cv2.error:\n",
        "        continue\n",
        "      if not ret:\n",
        "        break\n",
        "\n",
        "      image = cv2.cvtColor(frame, cv2.COLOR_BGR2RGB)\n",
        "      results = pose.process(image)\n",
        "\n",
        "      if results.pose_landmarks:\n",
        "        mp_drawing.draw_landmarks(frame, results.pose_landmarks, mp_pose.POSE_CONNECTIONS)\n",
        "        for id, im in enumerate(results.pose_landmarks.landmark):\n",
        "          h, w, c = frame.shape\n",
        "          cx, cy = int(im.x*w), int(im.y*h)\n",
        "          cv2.circle(frame, (cx,cy), 5, (255, 0, 0), cv2.FILLED)\n",
        "        landmark = results.pose_landmarks.landmark\n",
        "        for key,val in joint_indx.items():\n",
        "          first,mid,end = find_xyz(val, landmark)\n",
        "          angle = calculate_angle3D(first,mid,end, 1) #각도 계산\n",
        "          mid = mid[0:2]\n",
        "          cv2.putText(frame, str(angle),tuple(np.multiply(mid, [2400,1080]).astype(int)),cv2.FONT_HERSHEY_SIMPLEX, 1.2, (255,0,0),5,cv2.LINE_AA)\n",
        "          temp_w6[key].append(angle)\n",
        " \n",
        "\n",
        "        elbow_angle = temp_w6['check_right_elbow'][-1]\n",
        "        if elbow_angle > 135 and elbow_state == 'down':\n",
        "            elbow_state = 'up'\n",
        "            pushups.append([])\n",
        "            # 팔꿈치를 핀 정도가 160도보다 큰 경우\n",
        "            if max(temp_w6['check_right_elbow']) > 160:\n",
        "              pushups[-1].append(1)\n",
        "            # 팔꿈치를 덜 핀 경우\n",
        "            else:\n",
        "              pushups[-1].append(0)\n",
        "            # 팔꿈치를 굽힌 정도가 90도보다 작은 경우\n",
        "\n",
        "            if min(temp_w6['check_right_elbow']) < 90:\n",
        "              pushups[-1].append(1)\n",
        "            # 팔꿈치를 덜 굽힌 경우\n",
        "            else:\n",
        "              pushups[-1].append(0)\n",
        "            # 팔꿈치 각도 데이터 초기화 (어플에서의 변수 저장 값이 많아지는 것을 방지하기 위해 팔굽 하나 할때마다 각도 축적해놓은거를 초기화함.)\n",
        "            temp_w6['check_right_elbow'] = []\n",
        "\n",
        "            # 팔꿈치 굽혔다 필 동안 골반이 160도보다 내려갔는지(골반이 너무 아래로 내려갔는지)\n",
        "            if min(temp_w6['check_right_hip']) < 160:\n",
        "              pushups[-1].append(1)\n",
        "            # 팔꿈치 굽혔다 필 동안 골반이 220도보다 올라갔는지(골반이 너무 위로 올라갔는지)\n",
        "            elif max(temp_w6['check_right_hip']) > 220:\n",
        "              pushups[-1].append(2)\n",
        "            # 팔굽하는 동안 골반이 정상 자세(160~220도 사이값)인 경우\n",
        "            else:\n",
        "              pushups[-1].append(0)\n",
        "            temp_w6['check_right_hip'] = []\n",
        "\n",
        "\n",
        "            if min(temp_w6['check_right_knee']) < 152:\n",
        "              pushups[-1].append(0)\n",
        "            else:\n",
        "              pushups[-1].append(1)\n",
        "            temp_w6['check_right_knee'] = []\n",
        "\n",
        "        if elbow_angle < 130 and elbow_state == 'up':\n",
        "            elbow_state = 'down'\n",
        "\n",
        "        cv2.putText(frame, str(len(pushups)), (200,300), cv2.FONT_HERSHEY_PLAIN, 4, (255,255,255),2, cv2.LINE_AA)\n",
        "\n",
        "      out.write(frame)\n",
        "    out.release()\n",
        "\n"
      ],
      "execution_count": null,
      "outputs": []
    },
    {
      "cell_type": "code",
      "metadata": {
        "colab": {
          "base_uri": "https://localhost:8080/"
        },
        "id": "YXKHoiPP62uM",
        "outputId": "329f3d1b-2d3a-43e9-b038-8c478c8d3290"
      },
      "source": [
        "pushups"
      ],
      "execution_count": null,
      "outputs": [
        {
          "output_type": "execute_result",
          "data": {
            "text/plain": [
              "[[1, 0, 1, 0],\n",
              " [1, 1, 1, 1],\n",
              " [1, 1, 1, 1],\n",
              " [1, 0, 1, 1],\n",
              " [1, 0, 1, 0],\n",
              " [1, 0, 1, 0],\n",
              " [0, 0, 1, 1],\n",
              " [1, 1, 1, 1],\n",
              " [1, 1, 1, 1],\n",
              " [1, 1, 1, 1],\n",
              " [1, 1, 1, 1],\n",
              " [1, 1, 1, 1],\n",
              " [1, 1, 1, 1],\n",
              " [1, 1, 1, 1],\n",
              " [1, 1, 1, 1],\n",
              " [1, 1, 1, 1],\n",
              " [1, 1, 1, 1],\n",
              " [1, 1, 2, 1]]"
            ]
          },
          "metadata": {},
          "execution_count": 108
        }
      ]
    },
    {
      "cell_type": "markdown",
      "metadata": {
        "id": "XmMxw0RM99Ah"
      },
      "source": [
        "#**Evaulate Pushups**"
      ]
    },
    {
      "cell_type": "code",
      "metadata": {
        "id": "78BcXP6O93OW"
      },
      "source": [
        "def pushups_to_score(pushups):\n",
        "  each_score = []\n",
        "  for e in pushups:\n",
        "    Is_elbow_up = e[0]\n",
        "    Is_elbow_down = e[1]\n",
        "    Is_hip_good = 0\n",
        "    if e[2] == 0:\n",
        "      Is_hip_good = 1\n",
        "    Is_knee_good = e[3]\n",
        "    each_score.append(Is_elbow_up*30+Is_elbow_down*30+Is_hip_good*30+Is_knee_good*10)\n",
        "  return each_score"
      ],
      "execution_count": null,
      "outputs": []
    },
    {
      "cell_type": "code",
      "metadata": {
        "colab": {
          "base_uri": "https://localhost:8080/"
        },
        "id": "7l_tsHtQADDE",
        "outputId": "8d167c61-c92f-4219-a472-c80aa0cc8ae9"
      },
      "source": [
        "# pushups score for each reptition\n",
        "pushups_to_score(pushups)"
      ],
      "execution_count": null,
      "outputs": [
        {
          "output_type": "execute_result",
          "data": {
            "text/plain": [
              "[30, 70, 70, 40, 30, 30, 10, 70, 70, 70, 70, 70, 70, 70, 70, 70, 70, 70]"
            ]
          },
          "metadata": {},
          "execution_count": 110
        }
      ]
    },
    {
      "cell_type": "code",
      "metadata": {
        "colab": {
          "base_uri": "https://localhost:8080/"
        },
        "id": "z4lt4iHoA0D5",
        "outputId": "6d3cdd00-9f74-40f8-af30-5d1a987a2ed1"
      },
      "source": [
        "#total_score\n",
        "sum(pushups_to_score(pushups))"
      ],
      "execution_count": null,
      "outputs": [
        {
          "output_type": "execute_result",
          "data": {
            "text/plain": [
              "1050"
            ]
          },
          "metadata": {},
          "execution_count": 111
        }
      ]
    },
    {
      "cell_type": "code",
      "metadata": {
        "id": "mqfR8vnnFkFM",
        "colab": {
          "base_uri": "https://localhost:8080/",
          "height": 16
        },
        "outputId": "ff5ade91-24fc-4a2c-dc37-8ea67e92ea98"
      },
      "source": [
        "from google.colab import files\n",
        "files.download('wtemp6.mp4')\n"
      ],
      "execution_count": null,
      "outputs": [
        {
          "output_type": "display_data",
          "data": {
            "application/javascript": [
              "\n",
              "    async function download(id, filename, size) {\n",
              "      if (!google.colab.kernel.accessAllowed) {\n",
              "        return;\n",
              "      }\n",
              "      const div = document.createElement('div');\n",
              "      const label = document.createElement('label');\n",
              "      label.textContent = `Downloading \"${filename}\": `;\n",
              "      div.appendChild(label);\n",
              "      const progress = document.createElement('progress');\n",
              "      progress.max = size;\n",
              "      div.appendChild(progress);\n",
              "      document.body.appendChild(div);\n",
              "\n",
              "      const buffers = [];\n",
              "      let downloaded = 0;\n",
              "\n",
              "      const channel = await google.colab.kernel.comms.open(id);\n",
              "      // Send a message to notify the kernel that we're ready.\n",
              "      channel.send({})\n",
              "\n",
              "      for await (const message of channel.messages) {\n",
              "        // Send a message to notify the kernel that we're ready.\n",
              "        channel.send({})\n",
              "        if (message.buffers) {\n",
              "          for (const buffer of message.buffers) {\n",
              "            buffers.push(buffer);\n",
              "            downloaded += buffer.byteLength;\n",
              "            progress.value = downloaded;\n",
              "          }\n",
              "        }\n",
              "      }\n",
              "      const blob = new Blob(buffers, {type: 'application/binary'});\n",
              "      const a = document.createElement('a');\n",
              "      a.href = window.URL.createObjectURL(blob);\n",
              "      a.download = filename;\n",
              "      div.appendChild(a);\n",
              "      a.click();\n",
              "      div.remove();\n",
              "    }\n",
              "  "
            ],
            "text/plain": [
              "<IPython.core.display.Javascript object>"
            ]
          },
          "metadata": {}
        },
        {
          "output_type": "display_data",
          "data": {
            "application/javascript": [
              "download(\"download_d24df9fa-b3d7-4629-a3cc-c84429e7ebd2\", \"wtemp6.mp4\", 72947117)"
            ],
            "text/plain": [
              "<IPython.core.display.Javascript object>"
            ]
          },
          "metadata": {}
        }
      ]
    },
    {
      "cell_type": "markdown",
      "metadata": {
        "id": "vRyTnOuOqRMp"
      },
      "source": [
        "#**Checking Conditions for Squat**"
      ]
    },
    {
      "cell_type": "code",
      "metadata": {
        "id": "h2v1yrgT7Sh6"
      },
      "source": [
        "def get_distance(lm_from, lm_to):\n",
        "  x2 = (lm_from.x - lm_to.x)**2\n",
        "  y2 = (lm_from.y-lm_to.y)**2\n",
        "  return (x2+y2)**0.5"
      ],
      "execution_count": null,
      "outputs": []
    },
    {
      "cell_type": "code",
      "metadata": {
        "id": "-yXCjfbvDmAH"
      },
      "source": [
        "video_path = \"/content/squat/4.mp4\"\n",
        "cap = cv2.VideoCapture(video_path)\n",
        "squat_state = 'up'\n",
        "Is_knee_out = False\n",
        "\n",
        "#우측 관절값\n",
        "joint_indx = {'check_right_hip':[12,24,26],'check_right_knee':[24,26,28]} \n",
        "\n",
        "\"\"\"\n",
        "temp_squat은 스쿼트 운동을 한번 할떄마다(내려갔다 올라올 때마다) 해당 관절 부분의 각도를 최신화함. 이전에 했던 스쿼트의 각도값들은 다 초기화함.\n",
        "      -> 앱 상에서 관절 각도값을 저장하는 데에 무리가 가지않게 list를 초기화시켜줌.\n",
        "\"\"\"\n",
        "temp_squat = {'check_right_hip':[],'check_right_knee':[], 'average_hip_knee' : []} \n",
        "squats = []\n",
        "\n",
        "\"\"\"\n",
        "squats는 list(list)형식이다. 안쪽 list는 length가 4이며 각각 Is_relaxation, Is_contraction, Hip_knee_relation, Is_knee_in을 의미한다.\n",
        "Is_relaxation -> int 0 or 1 -> hip과 무릎을 완전히 펴면 1, 완전히 펴지 않으면 0\n",
        "Is_contraction -> int 0 or 1 -> hip과 무릎을 완전히 굽히면 1, 완전히 굽히지 않으면 0\n",
        "Hip_knee_relation -> int 0 or 1 or 2 -> 스쿼트 시 엉덩이가 내려가면서 무릎을 굽히면(운동 시 엉덩이의 값과 무릎의 각도의 평균값이 180도와 비슷하면) 0, 무릎을 굽히지 않고 엉덩이를 뒤로 빼면 1,\n",
        "                                        엉덩이를 뒤로 빼지 않고 무릎만 굽히면 2\n",
        "Is_knee_in -> int 1 or 0 -> 무릎이 발끝(엄지발가락)을 넘지 않으면1, 넘어가면 0 \n",
        "예를 들어, squats[0]이 [1,0,2,1]이면 첫번째 스쿼트 동작이 올라올 때 완전히 이완을 했고, 내려갈때 완전히 수축하진 않았으며(엉덩이를 더 내려야함),\n",
        "엉덩이를 빼기보단 무릎만 굽혔고, 무릎이 발끝을 넘어가지 않았다는 의미이다.\n",
        "\"\"\"\n",
        "\n",
        "if cap.isOpened():\n",
        "    width = int(cap.get(cv2.CAP_PROP_FRAME_WIDTH))\n",
        "    height = int(cap.get(cv2.CAP_PROP_FRAME_HEIGHT))\n",
        "\n",
        "    res=(int(width), int(height))\n",
        "    fourcc = cv2.VideoWriter_fourcc(*'MP4V') #codec\n",
        "    out = cv2.VideoWriter('4out.mp4', fourcc, 20.0, res)\n",
        "\n",
        "    frame = None\n",
        "    while True:\n",
        "      try:\n",
        "        ret, frame = cap.read()\n",
        "      except cv2.error:\n",
        "        continue\n",
        "      if not ret:\n",
        "        break\n",
        "\n",
        "      image = cv2.cvtColor(frame, cv2.COLOR_BGR2RGB)\n",
        "      results = pose.process(image)\n",
        "\n",
        "      if results.pose_landmarks:\n",
        "        mp_drawing.draw_landmarks(frame, results.pose_landmarks, mp_pose.POSE_CONNECTIONS)\n",
        "        for id, im in enumerate(results.pose_landmarks.landmark):\n",
        "          h, w, c = frame.shape\n",
        "          cx, cy = int(im.x*w), int(im.y*h)\n",
        "          cv2.circle(frame, (cx,cy), 5, (255, 0, 0), cv2.FILLED)\n",
        "        landmark = results.pose_landmarks.landmark\n",
        "        for key,val in joint_indx.items():\n",
        "          first,mid,end = find_xyz(val, landmark)\n",
        "          angle = calculate_angle3D(first,mid,end, 1) #각도 계산\n",
        "          mid = mid[0:2]\n",
        "          cv2.putText(frame, str(angle),tuple(np.multiply(mid, [2400,1080]).astype(int)),cv2.FONT_HERSHEY_SIMPLEX, 1.2, (255,0,0),5,cv2.LINE_AA)\n",
        "          temp_squat[key].append(angle)\n",
        "        knee_x = landmark[26].x # knee\n",
        "        toe_x = landmark[32].x # toe\n",
        "\n",
        "        # foot의 길이 측정\n",
        "        foot_length = get_distance(landmark[32], landmark[30])\n",
        "        # 무릎이 발끝보다 조금 나간거는 허용해줌(스쿼트 특성상 정확히 무릎이 발끝보다 덜 나가지 않음. 또한 오차값도 고려해서 발길이의 19.5%는 threshold값으로 설정함)\n",
        "        if toe_x + foot_length*0.195 < knee_x:\n",
        "           Is_knee_out = True\n",
        "\n",
        "        hip_angle = temp_squat['check_right_hip'][-1]\n",
        "        knee_angle = temp_squat['check_right_knee'][-1]\n",
        "        temp_squat['average_hip_knee'].append((hip_angle + knee_angle) / 2)\n",
        "\n",
        "        \n",
        "        \n",
        "        if hip_angle < 235 and knee_angle > 130 and squat_state == 'down':\n",
        "            squat_state = 'up'\n",
        "            element = []\n",
        "            # Is_relaxation\n",
        "            # 엉덩이를 핀 정도가 195도보다 작은 경우(완전히 이완)\n",
        "            if min(temp_squat['check_right_hip']) < 195:\n",
        "              element.append(1)\n",
        "            # 엉덩이를 덜 핀 경우\n",
        "            else:\n",
        "              element.append(0)\n",
        "\n",
        "            # Is_contraction\n",
        "            # 엉덩이를 굽힌 정도가 270도보다 큰 경우(완전히 수축)\n",
        "            if max(temp_squat['check_right_hip']) > 270:\n",
        "              element.append(1)\n",
        "            # 엉덩이를 덜 굽힌 경우\n",
        "            else:\n",
        "              element.append(0)\n",
        "\n",
        "            # 엉덩이 각도 데이터 초기화 (어플에서의 변수 저장 값이 많아지는 것을 방지하기 위해 스쿼트 하나 할때마다 각도 축적해놓은거를 초기화함.)\n",
        "            temp_squat['check_right_hip'] = []\n",
        "            temp_squat['check_right_knee'] = []\n",
        "\n",
        "\n",
        "            # Hip_knee_relation\n",
        "            # 스쿼트 동작동안 엉덩이와 무릎이 균형있게 내려가지 않고 엉덩이가 우선적으로 내려갔는지\n",
        "            if max(temp_squat['average_hip_knee']) > 193:\n",
        "              element.append(1)\n",
        "            # 스쿼트 동작동안 엉덩이와 무릎이 균형있게 내려가지 않고 무릎이 우선적으로 내려갔는지\n",
        "            elif min(temp_squat['average_hip_knee']) < 176:\n",
        "              element.append(2)\n",
        "            # 스쿼트 동작동안 엉덩이와 무릎이 균형있게 내려간 경우 (둘의 각도 평균값이 176~193의 경우)\n",
        "            else:\n",
        "              element.append(0)\n",
        "            temp_squat['average_hip_knee'] = []\n",
        "\n",
        "            # Is_knee_in\n",
        "            # 무릎이 발끝보다 안쪽에 있는지 유무\n",
        "            if Is_knee_out:\n",
        "              element.append(0)\n",
        "            else:\n",
        "              element.append(1)\n",
        "            \n",
        "            squats.append(element)\n",
        "            Is_knee_out = False\n",
        "\n",
        "        if hip_angle > 245 and knee_angle < 130 and squat_state == 'up':\n",
        "            squat_state = 'down'\n",
        "\n",
        "        cv2.putText(frame, str(len(squats)), (200,300), cv2.FONT_HERSHEY_PLAIN, 4, (255,255,255),2, cv2.LINE_AA)\n",
        "\n",
        "      out.write(frame)\n",
        "    out.release()\n",
        "\n"
      ],
      "execution_count": null,
      "outputs": []
    },
    {
      "cell_type": "code",
      "metadata": {
        "colab": {
          "base_uri": "https://localhost:8080/"
        },
        "id": "1hJidB19Ar-X",
        "outputId": "8e9dd0a3-8c29-4c1d-d797-d7e934f46f01"
      },
      "source": [
        "squats"
      ],
      "execution_count": null,
      "outputs": [
        {
          "output_type": "execute_result",
          "data": {
            "text/plain": [
              "[[1, 1, 0, 1], [1, 0, 0, 1], [1, 1, 0, 1], [1, 1, 2, 1]]"
            ]
          },
          "metadata": {},
          "execution_count": 35
        }
      ]
    },
    {
      "cell_type": "markdown",
      "metadata": {
        "id": "ezSChYsQB7G4"
      },
      "source": [
        "#**Evaulate Squats**"
      ]
    },
    {
      "cell_type": "code",
      "metadata": {
        "id": "g9X9O6FBBPoB"
      },
      "source": [
        "def squats_to_score(squats):\n",
        "  each_score = []\n",
        "  for e in squats:\n",
        "    Is_relaxation = e[0]\n",
        "    Is_contraction = e[1]\n",
        "    Is_hip_knee_good = 0\n",
        "    if e[2] == 0:\n",
        "      Is_hip_knee_good = 1\n",
        "    Is_knee_in = e[3]\n",
        "    each_score.append(Is_relaxation*10+Is_contraction*20+Is_hip_knee_good*55+Is_knee_in*15)\n",
        "  return each_score"
      ],
      "execution_count": null,
      "outputs": []
    },
    {
      "cell_type": "code",
      "metadata": {
        "colab": {
          "base_uri": "https://localhost:8080/"
        },
        "id": "0fDWqccfDmiJ",
        "outputId": "d3a91ebb-23b1-4d45-a6fa-13f09e25cb07"
      },
      "source": [
        "# squats score for each reptition\n",
        "squats_to_score(squats)"
      ],
      "execution_count": null,
      "outputs": [
        {
          "output_type": "execute_result",
          "data": {
            "text/plain": [
              "[100, 80, 100, 45]"
            ]
          },
          "metadata": {},
          "execution_count": 37
        }
      ]
    },
    {
      "cell_type": "code",
      "metadata": {
        "colab": {
          "base_uri": "https://localhost:8080/"
        },
        "id": "uWrzhIDzDsnK",
        "outputId": "a22816e0-c28c-42ed-fc93-001e3768dfc9"
      },
      "source": [
        "sum(squats_to_score(squats))"
      ],
      "execution_count": null,
      "outputs": [
        {
          "output_type": "execute_result",
          "data": {
            "text/plain": [
              "325"
            ]
          },
          "metadata": {},
          "execution_count": 38
        }
      ]
    },
    {
      "cell_type": "code",
      "metadata": {
        "id": "MkGHlydND_lh"
      },
      "source": [
        "from google.colab import files\n",
        "files.download('4out.mp4')\n"
      ],
      "execution_count": null,
      "outputs": []
    }
  ]
}